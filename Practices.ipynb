{
  "cells": [
    {
      "cell_type": "code",
      "execution_count": null,
      "metadata": {
        "colab": {
          "base_uri": "https://localhost:8080/"
        },
        "id": "sFAA0lLIzZZ3",
        "outputId": "4e1d4ec3-61ed-4677-e612-ac04efe02ad0"
      },
      "outputs": [
        {
          "name": "stdout",
          "output_type": "stream",
          "text": [
            "hello\n"
          ]
        }
      ],
      "source": [
        "print(\"hello\")"
      ]
    },
    {
      "cell_type": "code",
      "execution_count": null,
      "metadata": {
        "id": "ZjufVrkCznk2"
      },
      "outputs": [],
      "source": [
        "#comment"
      ]
    },
    {
      "cell_type": "code",
      "execution_count": null,
      "metadata": {
        "colab": {
          "base_uri": "https://localhost:8080/",
          "height": 35
        },
        "id": "NcmNB0nQzscA",
        "outputId": "b255fb0a-fb42-4a61-f19e-2d78d0cfbde5"
      },
      "outputs": [
        {
          "data": {
            "application/vnd.google.colaboratory.intrinsic+json": {
              "type": "string"
            },
            "text/plain": [
              "' multipal line '"
            ]
          },
          "execution_count": 3,
          "metadata": {},
          "output_type": "execute_result"
        }
      ],
      "source": [
        "\"\"\" multipal line \"\"\""
      ]
    },
    {
      "cell_type": "code",
      "execution_count": null,
      "metadata": {
        "id": "CTTfQKM0zzLA"
      },
      "outputs": [],
      "source": [
        "#varables is contanier are used to store data"
      ]
    },
    {
      "cell_type": "code",
      "execution_count": null,
      "metadata": {
        "colab": {
          "base_uri": "https://localhost:8080/",
          "height": 141
        },
        "id": "7SJMFo3c0UCt",
        "outputId": "2e334973-dbcc-43b3-f8af-0a824b3448ce"
      },
      "outputs": [
        {
          "ename": "TypeError",
          "evalue": "'str' object is not callable",
          "output_type": "error",
          "traceback": [
            "\u001b[0;31m---------------------------------------------------------------------------\u001b[0m",
            "\u001b[0;31mTypeError\u001b[0m                                 Traceback (most recent call last)",
            "\u001b[0;32m<ipython-input-29-9af6b9bab2a3>\u001b[0m in \u001b[0;36m<cell line: 1>\u001b[0;34m()\u001b[0m\n\u001b[0;32m----> 1\u001b[0;31m \u001b[0mprint\u001b[0m\u001b[0;34m(\u001b[0m\u001b[0;34m\"hello python\"\u001b[0m\u001b[0;34m)\u001b[0m\u001b[0;34m\u001b[0m\u001b[0;34m\u001b[0m\u001b[0m\n\u001b[0m",
            "\u001b[0;31mTypeError\u001b[0m: 'str' object is not callable"
          ]
        }
      ],
      "source": [
        "print(\"hello python\")"
      ]
    },
    {
      "cell_type": "code",
      "execution_count": null,
      "metadata": {
        "colab": {
          "base_uri": "https://localhost:8080/",
          "height": 176
        },
        "id": "1jzzLzeO3vc6",
        "outputId": "d8d19d6b-cb8b-41c1-9143-f94a4025cba8"
      },
      "outputs": [
        {
          "ename": "TypeError",
          "evalue": "'str' object is not callable",
          "output_type": "error",
          "traceback": [
            "\u001b[0;31m---------------------------------------------------------------------------\u001b[0m",
            "\u001b[0;31mTypeError\u001b[0m                                 Traceback (most recent call last)",
            "\u001b[0;32m<ipython-input-28-b464865f1254>\u001b[0m in \u001b[0;36m<cell line: 3>\u001b[0;34m()\u001b[0m\n\u001b[1;32m      1\u001b[0m \u001b[0mx\u001b[0m\u001b[0;34m=\u001b[0m\u001b[0;36m10\u001b[0m\u001b[0;34m\u001b[0m\u001b[0;34m\u001b[0m\u001b[0m\n\u001b[1;32m      2\u001b[0m \u001b[0my\u001b[0m\u001b[0;34m=\u001b[0m\u001b[0;36m20\u001b[0m\u001b[0;34m\u001b[0m\u001b[0;34m\u001b[0m\u001b[0m\n\u001b[0;32m----> 3\u001b[0;31m \u001b[0mprint\u001b[0m\u001b[0;34m(\u001b[0m\u001b[0mx\u001b[0m\u001b[0;34m+\u001b[0m\u001b[0my\u001b[0m\u001b[0;34m)\u001b[0m\u001b[0;34m\u001b[0m\u001b[0;34m\u001b[0m\u001b[0m\n\u001b[0m",
            "\u001b[0;31mTypeError\u001b[0m: 'str' object is not callable"
          ]
        }
      ],
      "source": [
        "x=10\n",
        "y=20\n",
        "print(x+y)\n"
      ]
    },
    {
      "cell_type": "code",
      "execution_count": null,
      "metadata": {
        "id": "gNYVDCZk33-g"
      },
      "outputs": [],
      "source": [
        "del print"
      ]
    },
    {
      "cell_type": "code",
      "execution_count": null,
      "metadata": {
        "colab": {
          "base_uri": "https://localhost:8080/"
        },
        "id": "581nGafN4Qxp",
        "outputId": "074ea023-0682-4468-fc04-bc33e0c7b205"
      },
      "outputs": [
        {
          "name": "stdout",
          "output_type": "stream",
          "text": [
            "50\n"
          ]
        }
      ],
      "source": [
        "x=20\n",
        "y=30\n",
        "print(x+y)\n",
        "\n",
        "\n"
      ]
    },
    {
      "cell_type": "code",
      "execution_count": null,
      "metadata": {
        "colab": {
          "base_uri": "https://localhost:8080/"
        },
        "id": "lNb0sI3K4qhX",
        "outputId": "02c0f938-27cf-4848-aae8-73accf3d488a"
      },
      "outputs": [
        {
          "name": "stdout",
          "output_type": "stream",
          "text": [
            "-2\n"
          ]
        }
      ],
      "source": [
        "y=5\n",
        "h=7\n",
        "print(y-h)\n",
        "#substraction"
      ]
    },
    {
      "cell_type": "code",
      "execution_count": null,
      "metadata": {
        "colab": {
          "base_uri": "https://localhost:8080/"
        },
        "id": "TrHfjGJN48dm",
        "outputId": "a2400b0d-84d0-4b55-9321-ddce0ee67a70"
      },
      "outputs": [
        {
          "name": "stdout",
          "output_type": "stream",
          "text": [
            "30 baap\n"
          ]
        }
      ],
      "source": [
        "a=10   #int\n",
        "b=20  #int\n",
        "c=\"baap\"  #string\n",
        "print(a+b,c)\n",
        "\n",
        "#additon of 3 varables\n",
        "#type casting"
      ]
    },
    {
      "cell_type": "code",
      "execution_count": null,
      "metadata": {
        "colab": {
          "base_uri": "https://localhost:8080/"
        },
        "id": "LawJObDC5GdN",
        "outputId": "f3179b39-a473-4aa7-9501-130b86cb072f"
      },
      "outputs": [
        {
          "name": "stdout",
          "output_type": "stream",
          "text": [
            "annad\n"
          ]
        },
        {
          "data": {
            "text/plain": [
              "str"
            ]
          },
          "execution_count": 39,
          "metadata": {},
          "output_type": "execute_result"
        }
      ],
      "source": [
        "# Data Type\n",
        "#string\n",
        "g=\"annad\"\n",
        "print(g)\n",
        "type(g)"
      ]
    },
    {
      "cell_type": "code",
      "execution_count": null,
      "metadata": {
        "colab": {
          "base_uri": "https://localhost:8080/"
        },
        "id": "7GUn5mzA8Er5",
        "outputId": "a2cbc8f9-7888-4ce7-b2e4-e3d54b2e7eeb"
      },
      "outputs": [
        {
          "name": "stdout",
          "output_type": "stream",
          "text": [
            "30\n"
          ]
        }
      ],
      "source": [
        "#int\n",
        "a=30\n",
        "type(a)\n",
        "print(a)"
      ]
    },
    {
      "cell_type": "code",
      "execution_count": null,
      "metadata": {
        "colab": {
          "base_uri": "https://localhost:8080/"
        },
        "id": "btFE7THM8PW9",
        "outputId": "7dcfa5df-ebba-4c9f-8e12-14fc19a24d56"
      },
      "outputs": [
        {
          "name": "stdout",
          "output_type": "stream",
          "text": [
            "2.3\n"
          ]
        },
        {
          "data": {
            "text/plain": [
              "float"
            ]
          },
          "execution_count": 41,
          "metadata": {},
          "output_type": "execute_result"
        }
      ],
      "source": [
        "#float\n",
        "a=2.3\n",
        "print(a)\n",
        "type(a)"
      ]
    },
    {
      "cell_type": "code",
      "execution_count": null,
      "metadata": {
        "colab": {
          "base_uri": "https://localhost:8080/"
        },
        "id": "AVpRAnSC8qWy",
        "outputId": "fc82e820-7bb7-4559-be85-f3c718c9a6a9"
      },
      "outputs": [
        {
          "name": "stdout",
          "output_type": "stream",
          "text": [
            "4j\n"
          ]
        },
        {
          "data": {
            "text/plain": [
              "complex"
            ]
          },
          "execution_count": 43,
          "metadata": {},
          "output_type": "execute_result"
        }
      ],
      "source": [
        "#complex\n",
        "a=4j\n",
        "print(a)\n",
        "type(a)"
      ]
    },
    {
      "cell_type": "code",
      "execution_count": null,
      "metadata": {
        "colab": {
          "base_uri": "https://localhost:8080/"
        },
        "id": "Ky4S9Doj87yS",
        "outputId": "824dd769-b680-4192-895c-467cf89429e2"
      },
      "outputs": [
        {
          "name": "stdout",
          "output_type": "stream",
          "text": [
            "16.400000000000002\n"
          ]
        }
      ],
      "source": [
        "a=1.3\n",
        "b=2.6\n",
        "c=6.7\n",
        "d=5.8\n",
        "print(a+b+c+d)"
      ]
    },
    {
      "cell_type": "code",
      "execution_count": null,
      "metadata": {
        "colab": {
          "base_uri": "https://localhost:8080/"
        },
        "id": "oyviPrxD-BpP",
        "outputId": "686aebe1-6bb3-43f5-d606-616bd48d840d"
      },
      "outputs": [
        {
          "name": "stdout",
          "output_type": "stream",
          "text": [
            "What is an animal? Animals are multicellular eukaryotes whose cells are bound together by collagen. Animals dominate human conceptions of life on Earth because of their size, diversity, abundance, and mobility\n"
          ]
        }
      ],
      "source": [
        "a=\"What is an animal? Animals are multicellular eukaryotes whose cells are bound together by collagen. Animals dominate human conceptions of life on Earth because of their size, diversity, abundance, and mobility\"\n",
        "print(a)"
      ]
    },
    {
      "cell_type": "code",
      "execution_count": null,
      "metadata": {
        "colab": {
          "base_uri": "https://localhost:8080/"
        },
        "id": "UhAFCNX0-rwJ",
        "outputId": "ec43a481-b052-42ca-cc8d-11384ffe8841"
      },
      "outputs": [
        {
          "data": {
            "text/plain": [
              "str"
            ]
          },
          "execution_count": 49,
          "metadata": {},
          "output_type": "execute_result"
        }
      ],
      "source": [
        "type(a)"
      ]
    },
    {
      "cell_type": "code",
      "execution_count": null,
      "metadata": {
        "colab": {
          "base_uri": "https://localhost:8080/"
        },
        "id": "Va6qnUeD_kM7",
        "outputId": "89dec81f-523b-43ba-b930-2cf1bce9ebff"
      },
      "outputs": [
        {
          "name": "stdout",
          "output_type": "stream",
          "text": [
            "0.5074626865671642\n"
          ]
        }
      ],
      "source": [
        "a=34\n",
        "b=67\n",
        "print(a/b)\n",
        "#divsion"
      ]
    },
    {
      "cell_type": "code",
      "execution_count": null,
      "metadata": {
        "colab": {
          "base_uri": "https://localhost:8080/"
        },
        "id": "Pd1vS_whc6u7",
        "outputId": "914a3cea-8ecd-4e33-e2a5-1185eb8db272"
      },
      "outputs": [
        {
          "name": "stdout",
          "output_type": "stream",
          "text": [
            "('anand', 'banana', 'apple')\n"
          ]
        }
      ],
      "source": [
        "### Tuple-Based Questions:\n",
        "\n",
        "#1. Write a Python program to create a tuple and print all its elements.\n",
        "a=(\"anand\",\"banana\",\"apple\")\n",
        "print(a)"
      ]
    },
    {
      "cell_type": "code",
      "execution_count": null,
      "metadata": {
        "colab": {
          "base_uri": "https://localhost:8080/"
        },
        "id": "gdeBgrX9ed65",
        "outputId": "d1097382-7080-4e31-9ae4-9f95405a2bf1"
      },
      "outputs": [
        {
          "name": "stdout",
          "output_type": "stream",
          "text": [
            "6\n"
          ]
        }
      ],
      "source": [
        "#Given a tuple of integers, write a program to find the second largest element.\n",
        "a=(1,2,3,4,5,6,7)\n",
        "b=sorted(a)\n",
        "print(b[-2])"
      ]
    },
    {
      "cell_type": "code",
      "execution_count": null,
      "metadata": {
        "colab": {
          "base_uri": "https://localhost:8080/"
        },
        "id": "bx1EAAxOe1nU",
        "outputId": "6659deba-e359-435c-e665-74b2e65b4eab"
      },
      "outputs": [
        {
          "name": "stdout",
          "output_type": "stream",
          "text": [
            "(1, 3, 4, 5, 6, 7)\n"
          ]
        }
      ],
      "source": [
        "#Write a program to convert a list into a tuple.\n",
        "a=[1,3,4,5,6,7]\n",
        "b=tuple(a)\n",
        "print(b)"
      ]
    },
    {
      "cell_type": "code",
      "execution_count": null,
      "metadata": {
        "colab": {
          "base_uri": "https://localhost:8080/"
        },
        "id": "dtpFClg_fLOw",
        "outputId": "a8703b9d-419a-4a44-a825-bd1fc4982d95"
      },
      "outputs": [
        {
          "name": "stdout",
          "output_type": "stream",
          "text": [
            "3\n"
          ]
        }
      ],
      "source": [
        "#Write a Python program to find the index of a specific element in a tuple.\n",
        "a=(1,2,3,4,4,55,6)\n",
        "x=a.index(4)\n",
        "print(x)"
      ]
    },
    {
      "cell_type": "code",
      "execution_count": null,
      "metadata": {
        "colab": {
          "base_uri": "https://localhost:8080/"
        },
        "id": "sJqH0yhhgAVv",
        "outputId": "53efd5da-3def-4143-f922-fd84828c0653"
      },
      "outputs": [
        {
          "name": "stdout",
          "output_type": "stream",
          "text": [
            "(7, 6, 5, 4, 3, 2, 1)\n"
          ]
        }
      ],
      "source": [
        "#Given a tuple, write a program to reverse its elements.\n",
        "a=(1,2,3,4,5,6,7)\n",
        "x=a[::-1]\n",
        "print(x)"
      ]
    },
    {
      "cell_type": "code",
      "execution_count": null,
      "metadata": {
        "colab": {
          "base_uri": "https://localhost:8080/"
        },
        "id": "GorlUy-ej0sg",
        "outputId": "12fc11fc-5293-4ad9-f7a0-292538c25fb5"
      },
      "outputs": [
        {
          "name": "stdout",
          "output_type": "stream",
          "text": [
            "2\n"
          ]
        }
      ],
      "source": [
        "#Write a program to count how many times an element occurs in a tuple\n",
        "a=(\"apple\",\"apple\",\"orange\")\n",
        "x=a.count(\"apple\")\n",
        "print(x)"
      ]
    },
    {
      "cell_type": "code",
      "execution_count": null,
      "metadata": {
        "colab": {
          "base_uri": "https://localhost:8080/"
        },
        "id": "JjDIm2edkiiA",
        "outputId": "6e44d391-8ba7-4ce4-837c-0a758b88314d"
      },
      "outputs": [
        {
          "name": "stdout",
          "output_type": "stream",
          "text": [
            "not exists in tuple\n"
          ]
        }
      ],
      "source": [
        "#Create a tuple and write a program to check if a particular element exists within it.\n",
        "a=(1,2,3,4,5,67,8,90)\n",
        "if 0 in a:\n",
        "  print(\"exists in tuple\")\n",
        "else:\n",
        "  print(\"not exists in tuple\")"
      ]
    },
    {
      "cell_type": "code",
      "execution_count": null,
      "metadata": {
        "colab": {
          "base_uri": "https://localhost:8080/"
        },
        "id": "ukbcCcjZk0xs",
        "outputId": "bf2ae23d-81cf-4648-dc91-c8b4b9b6e4ef"
      },
      "outputs": [
        {
          "name": "stdout",
          "output_type": "stream",
          "text": [
            "anand\n",
            "banana\n",
            "apple\n"
          ]
        }
      ],
      "source": [
        "#Write a Python program to unpack a tuple into several variables.\n",
        "a=(\"anand\",\"banana\",\"apple\")\n",
        "(x,y,z)=a\n",
        "print(x)\n",
        "print(y)\n",
        "print(z)"
      ]
    },
    {
      "cell_type": "code",
      "execution_count": null,
      "metadata": {
        "colab": {
          "base_uri": "https://localhost:8080/"
        },
        "id": "UohIsvGIl5Wx",
        "outputId": "ad4578e4-da10-43c3-bbc4-e40fb8e362b0"
      },
      "outputs": [
        {
          "name": "stdout",
          "output_type": "stream",
          "text": [
            "(1, 2, 3, 4, 5, 6, 7, 8, 9, 43)\n"
          ]
        }
      ],
      "source": [
        "#Given two tuples, write a program to concatenate them and remove duplicates.\n",
        "a=(1,2,3,4,5,6,7)\n",
        "b=(9,8,7,6,5,43)\n",
        "c=tuple(set(a+b))\n",
        "print(c)"
      ]
    },
    {
      "cell_type": "code",
      "execution_count": null,
      "metadata": {
        "colab": {
          "base_uri": "https://localhost:8080/"
        },
        "id": "uFrl6G60mVGr",
        "outputId": "428bdee0-fd53-4283-8798-750e0e3d3eb2"
      },
      "outputs": [
        {
          "name": "stdout",
          "output_type": "stream",
          "text": [
            "anandrajram\n"
          ]
        }
      ],
      "source": [
        "#. Write a program to convert a tuple of strings into a single concatenated string.\n",
        "a=(\"anand\",\"raj\",\"ram\")\n",
        "print(''.join(a))"
      ]
    },
    {
      "cell_type": "code",
      "execution_count": null,
      "metadata": {
        "id": "y3etZR7NnRhZ"
      },
      "outputs": [],
      "source": [
        "import pandas"
      ]
    },
    {
      "cell_type": "code",
      "execution_count": null,
      "metadata": {
        "colab": {
          "base_uri": "https://localhost:8080/",
          "height": 211
        },
        "id": "q7XlXj12TMw2",
        "outputId": "e895b902-c4eb-4076-fbaa-d43c0a32f491"
      },
      "outputs": [
        {
          "name": "stdout",
          "output_type": "stream",
          "text": [
            "{'name': 'anand', 'age': 23, 'city': 'chennai'}\n"
          ]
        },
        {
          "ename": "NameError",
          "evalue": "name 'pandas' is not defined",
          "output_type": "error",
          "traceback": [
            "\u001b[0;31m---------------------------------------------------------------------------\u001b[0m",
            "\u001b[0;31mNameError\u001b[0m                                 Traceback (most recent call last)",
            "\u001b[0;32m<ipython-input-5-6005e2b551f0>\u001b[0m in \u001b[0;36m<cell line: 7>\u001b[0;34m()\u001b[0m\n\u001b[1;32m      5\u001b[0m }\n\u001b[1;32m      6\u001b[0m \u001b[0mprint\u001b[0m\u001b[0;34m(\u001b[0m\u001b[0mm1\u001b[0m\u001b[0;34m)\u001b[0m\u001b[0;34m\u001b[0m\u001b[0;34m\u001b[0m\u001b[0m\n\u001b[0;32m----> 7\u001b[0;31m \u001b[0mres\u001b[0m\u001b[0;34m=\u001b[0m\u001b[0mpandas\u001b[0m\u001b[0;34m.\u001b[0m\u001b[0mDataFrame\u001b[0m\u001b[0;34m(\u001b[0m\u001b[0mm1\u001b[0m\u001b[0;34m)\u001b[0m\u001b[0;34m\u001b[0m\u001b[0;34m\u001b[0m\u001b[0m\n\u001b[0m\u001b[1;32m      8\u001b[0m \u001b[0mprint\u001b[0m\u001b[0;34m(\u001b[0m\u001b[0mres\u001b[0m\u001b[0;34m)\u001b[0m\u001b[0;34m\u001b[0m\u001b[0;34m\u001b[0m\u001b[0m\n",
            "\u001b[0;31mNameError\u001b[0m: name 'pandas' is not defined"
          ]
        }
      ],
      "source": [
        "m1={\n",
        "    \"name\":\"anand\",\n",
        "    \"age\":23,\n",
        "    \"city\":\"chennai\"\n",
        "}\n",
        "print(m1)\n",
        "res=pandas.DataFrame(m1)\n",
        "print(res)"
      ]
    },
    {
      "cell_type": "code",
      "execution_count": null,
      "metadata": {
        "colab": {
          "base_uri": "https://localhost:8080/"
        },
        "id": "HepCFnWhT7Vc",
        "outputId": "f56140c0-c7c9-4caa-8f3c-3a701d379a63"
      },
      "outputs": [
        {
          "name": "stdout",
          "output_type": "stream",
          "text": [
            "{'name': 'anand', 'age': 23, 'city': 'chennai'}\n"
          ]
        }
      ],
      "source": [
        "m1={\n",
        "    \"name\":\"anand\",\n",
        "    \"age\":23,\n",
        "    \"city\":\"chennai\"\n",
        "}\n",
        "print(m1)\n"
      ]
    },
    {
      "cell_type": "code",
      "execution_count": null,
      "metadata": {
        "colab": {
          "base_uri": "https://localhost:8080/"
        },
        "id": "Ioaii_efLgwS",
        "outputId": "d428968d-3b32-4104-834e-97e417219d7d"
      },
      "outputs": [
        {
          "name": "stdout",
          "output_type": "stream",
          "text": [
            "<__main__.student object at 0x7c51f0130e50>\n"
          ]
        }
      ],
      "source": [
        "#class and object\n",
        "class student:\n",
        "  name:\"anand\"\n",
        "\n",
        "s1=student()\n",
        "print(s1)\n",
        "\n"
      ]
    },
    {
      "cell_type": "code",
      "execution_count": null,
      "metadata": {
        "colab": {
          "base_uri": "https://localhost:8080/",
          "height": 329
        },
        "id": "ZoQ50koNct4F",
        "outputId": "37566334-ba5f-49ae-e43e-e68379a65799"
      },
      "outputs": [
        {
          "ename": "NameError",
          "evalue": "name 'car' is not defined",
          "output_type": "error",
          "traceback": [
            "\u001b[0;31m---------------------------------------------------------------------------\u001b[0m",
            "\u001b[0;31mNameError\u001b[0m                                 Traceback (most recent call last)",
            "\u001b[0;32m<ipython-input-11-5ea067e9aa7e>\u001b[0m in \u001b[0;36m<cell line: 1>\u001b[0;34m()\u001b[0m\n\u001b[0;32m----> 1\u001b[0;31m \u001b[0;32mclass\u001b[0m \u001b[0mcar\u001b[0m\u001b[0;34m:\u001b[0m\u001b[0;34m\u001b[0m\u001b[0;34m\u001b[0m\u001b[0m\n\u001b[0m\u001b[1;32m      2\u001b[0m   \u001b[0mcolor\u001b[0m\u001b[0;34m=\u001b[0m\u001b[0;34m\"blue\"\u001b[0m\u001b[0;34m\u001b[0m\u001b[0;34m\u001b[0m\u001b[0m\n\u001b[1;32m      3\u001b[0m \u001b[0;34m\u001b[0m\u001b[0m\n\u001b[1;32m      4\u001b[0m   \u001b[0mcar1\u001b[0m\u001b[0;34m=\u001b[0m\u001b[0mcar\u001b[0m\u001b[0;34m(\u001b[0m\u001b[0;34m)\u001b[0m\u001b[0;34m\u001b[0m\u001b[0;34m\u001b[0m\u001b[0m\n\u001b[1;32m      5\u001b[0m   \u001b[0mprint\u001b[0m\u001b[0;34m(\u001b[0m\u001b[0mcar1\u001b[0m\u001b[0;34m)\u001b[0m\u001b[0;34m\u001b[0m\u001b[0;34m\u001b[0m\u001b[0m\n",
            "\u001b[0;32m<ipython-input-11-5ea067e9aa7e>\u001b[0m in \u001b[0;36mcar\u001b[0;34m()\u001b[0m\n\u001b[1;32m      2\u001b[0m   \u001b[0mcolor\u001b[0m\u001b[0;34m=\u001b[0m\u001b[0;34m\"blue\"\u001b[0m\u001b[0;34m\u001b[0m\u001b[0;34m\u001b[0m\u001b[0m\n\u001b[1;32m      3\u001b[0m \u001b[0;34m\u001b[0m\u001b[0m\n\u001b[0;32m----> 4\u001b[0;31m   \u001b[0mcar1\u001b[0m\u001b[0;34m=\u001b[0m\u001b[0mcar\u001b[0m\u001b[0;34m(\u001b[0m\u001b[0;34m)\u001b[0m\u001b[0;34m\u001b[0m\u001b[0;34m\u001b[0m\u001b[0m\n\u001b[0m\u001b[1;32m      5\u001b[0m   \u001b[0mprint\u001b[0m\u001b[0;34m(\u001b[0m\u001b[0mcar1\u001b[0m\u001b[0;34m)\u001b[0m\u001b[0;34m\u001b[0m\u001b[0;34m\u001b[0m\u001b[0m\n",
            "\u001b[0;31mNameError\u001b[0m: name 'car' is not defined"
          ]
        }
      ],
      "source": [
        "class car:\n",
        "  color=\"blue\"\n",
        "\n",
        "  car1=car()\n",
        "  print(car1)\n"
      ]
    },
    {
      "cell_type": "code",
      "execution_count": null,
      "metadata": {
        "colab": {
          "base_uri": "https://localhost:8080/"
        },
        "id": "WTKCcW2i1uMp",
        "outputId": "55728246-0ea9-4311-f342-1b69f2aecb74"
      },
      "outputs": [
        {
          "name": "stdout",
          "output_type": "stream",
          "text": [
            "Number of vowels: 3\n"
          ]
        }
      ],
      "source": [
        "# Write a program to count the number of vowels in a string\n",
        "input_string = \"Hello, World!\"\n",
        "vowels = \"aeiouAEIOU\"\n",
        "count = 0\n",
        "\n",
        "for char in input_string:\n",
        "    if char in vowels:\n",
        "        count += 1\n",
        "\n",
        "print(\"Number of vowels:\", count)\n",
        "\n"
      ]
    },
    {
      "cell_type": "code",
      "execution_count": null,
      "metadata": {
        "colab": {
          "base_uri": "https://localhost:8080/"
        },
        "id": "9IiLjx1Ai1sf",
        "outputId": "f211a1d9-c406-4cbc-b6b0-f66a81f14425"
      },
      "outputs": [
        {
          "name": "stdout",
          "output_type": "stream",
          "text": [
            "Second largest number: 7\n"
          ]
        }
      ],
      "source": [
        "# Create a program that finds the second largest number in a list.\n",
        "\n",
        "my_list = [5, 2, 9, 1, 7]\n",
        "my_list.sort()\n",
        "second_largest = my_list[-2]\n",
        "print(\"Second largest number:\", second_largest)"
      ]
    },
    {
      "cell_type": "code",
      "execution_count": null,
      "metadata": {
        "colab": {
          "base_uri": "https://localhost:8080/"
        },
        "id": "v3CxxxKnjC7U",
        "outputId": "7241a11e-2bb9-41f3-efd6-ae6f2bda1f24"
      },
      "outputs": [
        {
          "name": "stdout",
          "output_type": "stream",
          "text": [
            "True\n"
          ]
        }
      ],
      "source": [
        "#. Write a function to check if a given string is an anagram of another string.\n",
        "def is_anagram(str1, str2):\n",
        "    str1 = str1.lower().replace(\" \", \"\")\n",
        "    str2 = str2.lower().replace(\" \", \"\")\n",
        "    return sorted(str1) == sorted(str2)\n",
        "print(is_anagram(\"anand\",\"anand\"))"
      ]
    },
    {
      "cell_type": "code",
      "execution_count": null,
      "metadata": {
        "colab": {
          "base_uri": "https://localhost:8080/"
        },
        "id": "--a5znYgjX4y",
        "outputId": "d711bdb2-959c-4089-db84-b7d5bc44ae64"
      },
      "outputs": [
        {
          "name": "stdout",
          "output_type": "stream",
          "text": [
            "{'b': 1, 'c': 2, 'a': 3}\n"
          ]
        }
      ],
      "source": [
        "\n",
        "#. Create a program that sorts a dictionary by its values.\n",
        "my_dict = {'a': 3,\n",
        "           'b': 1,\n",
        "           'c': 2\n",
        "           }\n",
        "sorted_dict = dict(sorted(my_dict.items(), key=lambda item: item[1]))\n",
        "print(sorted_dict)"
      ]
    },
    {
      "cell_type": "code",
      "execution_count": null,
      "metadata": {
        "colab": {
          "base_uri": "https://localhost:8080/"
        },
        "id": "KoDxzWZYjopZ",
        "outputId": "efa942e4-b66a-4b83-e2e8-dd87811a3a37"
      },
      "outputs": [
        {
          "name": "stdout",
          "output_type": "stream",
          "text": [
            "[1, 3, 4, 5]\n"
          ]
        }
      ],
      "source": [
        "# Write a program to remove all occurrences of a specified element from a list.\n",
        "my_list = [1, 2, 3, 2, 4, 2, 5]\n",
        "element_to_remove = 2\n",
        "my_list = [x for x in my_list if x != element_to_remove]\n",
        "print(my_list)"
      ]
    },
    {
      "cell_type": "code",
      "execution_count": null,
      "metadata": {
        "colab": {
          "base_uri": "https://localhost:8080/"
        },
        "id": "G97fCGf0lE8T",
        "outputId": "29b0bc69-25a8-4246-f4d4-6719ee3b9d99"
      },
      "outputs": [
        {
          "name": "stdout",
          "output_type": "stream",
          "text": [
            "Sum of digits: 15\n"
          ]
        }
      ],
      "source": [
        "# Write a program to find the sum of digits of a given number.\n",
        "number = 12345\n",
        "sum_of_digits = sum(int(digit) for digit in str(number))\n",
        "print(\"Sum of digits:\", sum_of_digits)"
      ]
    },
    {
      "cell_type": "code",
      "execution_count": null,
      "metadata": {
        "colab": {
          "base_uri": "https://localhost:8080/"
        },
        "id": "dPAlNInRlkYn",
        "outputId": "fe3f8e78-f63b-40dc-b189-799516025d54"
      },
      "outputs": [
        {
          "name": "stdout",
          "output_type": "stream",
          "text": [
            "True\n"
          ]
        }
      ],
      "source": [
        "#. Create a lambda function to check if a number is even or odd.\n",
        "\n",
        "is_even = lambda x: x % 2 == 0\n",
        "print(is_even(4))"
      ]
    },
    {
      "cell_type": "code",
      "execution_count": null,
      "metadata": {
        "id": "onrEnJuLlmfy"
      },
      "outputs": [],
      "source": [
        "#. Write a function to merge two dictionaries.\n",
        "def merge_dicts(dict1, dict2):\n",
        "    merged_dict = {**dict1, **dict2}\n",
        "    return merged_dict\n",
        "    print"
      ]
    },
    {
      "cell_type": "code",
      "execution_count": null,
      "metadata": {
        "id": "QMNWYxRxmG90"
      },
      "outputs": [],
      "source": [
        "#. Write a program to find the common elements between two lists.\n",
        "list1 = [1, 2, 3, 4, 5]\n",
        "list2 = [3, 4, 5, 6, 7]\n",
        "common_elements = list(set(list1) & set(list2))\n",
        "print"
      ]
    },
    {
      "cell_type": "code",
      "execution_count": null,
      "metadata": {
        "colab": {
          "base_uri": "https://localhost:8080/"
        },
        "id": "YK-JfN3OGfMf",
        "outputId": "763c83d8-7f30-41aa-e670-f0eb45df91ee"
      },
      "outputs": [
        {
          "name": "stdout",
          "output_type": "stream",
          "text": [
            "The list is empty.\n"
          ]
        }
      ],
      "source": [
        "# Create a program to check if a list is empty.\n",
        "my_list = []  # You can change this to test with different lists\n",
        "\n",
        "if not my_list:\n",
        "    print(\"The list is empty.\")\n",
        "else:\n",
        "  print(\"The list is not empty.\")\n",
        "\n"
      ]
    },
    {
      "cell_type": "code",
      "execution_count": null,
      "metadata": {
        "colab": {
          "base_uri": "https://localhost:8080/"
        },
        "id": "oyEZLSFuGhoN",
        "outputId": "62053c27-b9ce-49e7-cf18-efe0a6899872"
      },
      "outputs": [
        {
          "name": "stdout",
          "output_type": "stream",
          "text": [
            "[1, 3, 6, 10, 15]\n"
          ]
        }
      ],
      "source": [
        "#. Write a program to find the cumulative sum of a list.\n",
        "my_list = [1, 2, 3, 4, 5]\n",
        "cumulative_sum = [sum(my_list[:i+1]) for i in range(len(my_list))]\n",
        "print(cumulative_sum)"
      ]
    },
    {
      "cell_type": "code",
      "execution_count": null,
      "metadata": {
        "colab": {
          "base_uri": "https://localhost:8080/"
        },
        "id": "V_i6Iq1oHZQr",
        "outputId": "80eeefc7-03df-45bb-d65e-91cd595f2425"
      },
      "outputs": [
        {
          "name": "stdout",
          "output_type": "stream",
          "text": [
            "1\n"
          ]
        }
      ],
      "source": [
        "#. Write a function to count the number of words in a string\n",
        "def count_words(string):\n",
        "    words = string.split()\n",
        "    return len(words)\n",
        "print(count_words(\"anand\"))"
      ]
    },
    {
      "cell_type": "code",
      "execution_count": null,
      "metadata": {
        "colab": {
          "base_uri": "https://localhost:8080/"
        },
        "id": "mkoJKVABHrz_",
        "outputId": "753d7f48-4590-4044-a3be-688d23087c97"
      },
      "outputs": [
        {
          "name": "stdout",
          "output_type": "stream",
          "text": [
            "banana\n"
          ]
        }
      ],
      "source": [
        "#Create a program to find the longest word in a list of words\n",
        "words = [\"apple\", \"banana\", \"cherry\", \"date\"]\n",
        "longest_word = max(words, key=len)\n",
        "print(longest_word)"
      ]
    },
    {
      "cell_type": "code",
      "execution_count": null,
      "metadata": {
        "colab": {
          "base_uri": "https://localhost:8080/"
        },
        "id": "9d1JtjYyH51G",
        "outputId": "ac18fdf3-8fe0-403e-d9c4-6c971c58d0f8"
      },
      "outputs": [
        {
          "name": "stdout",
          "output_type": "stream",
          "text": [
            "First non-repeated character: d\n"
          ]
        }
      ],
      "source": [
        "# Write a function that returns the first non-repeated character in a string.\n",
        "def first_non_repeated_char(string):\n",
        "    for char in string:\n",
        "        if string.count(char) == 1:\n",
        "            return char\n",
        "    return None\n",
        "input_string = \"anand\"\n",
        "result = first_non_repeated_char(input_string)\n",
        "print(\"First non-repeated character:\", result)\n",
        "\n",
        "\n"
      ]
    },
    {
      "cell_type": "code",
      "execution_count": null,
      "metadata": {
        "colab": {
          "base_uri": "https://localhost:8080/"
        },
        "id": "kGHcjQYuJSqd",
        "outputId": "294d6bf5-d728-4404-ecc0-23bb8ce61d10"
      },
      "outputs": [
        {
          "name": "stdout",
          "output_type": "stream",
          "text": [
            "True\n"
          ]
        }
      ],
      "source": [
        "# Create a program that checks if two sets are disjoint.\n",
        "set1 = {1, 2, 3}\n",
        "set2 = {4, 5, 6}\n",
        "is_disjoint = set1.isdisjoint(set2)\n",
        "print(is_disjoint)"
      ]
    },
    {
      "cell_type": "code",
      "execution_count": null,
      "metadata": {
        "id": "BfhR2f6NJUli"
      },
      "outputs": [],
      "source": [
        "#. Write a program to remove the nth occurrence of a word from a list.\n",
        "def remove_nth_occurrence(word_list, target_word, n):\n",
        "    count = 0\n",
        "    result = []\n"
      ]
    },
    {
      "cell_type": "code",
      "execution_count": null,
      "metadata": {
        "colab": {
          "base_uri": "https://localhost:8080/"
        },
        "id": "VyQMFqbQJqWe",
        "outputId": "1cdca376-ea1b-4377-a8ec-7c6de8cf1d9a"
      },
      "outputs": [
        {
          "name": "stdout",
          "output_type": "stream",
          "text": [
            "List after removing the nth occurrence: ['apple', 'banana', 'cherry', 'apple', 'date']\n"
          ]
        }
      ],
      "source": [
        "words = [\"apple\", \"banana\", \"apple\", \"cherry\", \"apple\", \"date\"]\n",
        "word_to_remove = \"apple\"\n",
        "n = 2  # nth occurrence to remove\n",
        "\n",
        "count = 0\n",
        "for i in range(len(words)):\n",
        "    if words[i] == word_to_remove:\n",
        "        count += 1\n",
        "        if count == n:\n",
        "            del words[i]\n",
        "            break\n",
        "\n",
        "print(\"List after removing the nth occurrence:\", words)\n"
      ]
    },
    {
      "cell_type": "code",
      "execution_count": null,
      "metadata": {
        "colab": {
          "base_uri": "https://localhost:8080/"
        },
        "id": "x20424qiJ_sJ",
        "outputId": "a472a3a3-fa32-4cd2-d605-6f7b2beda3a8"
      },
      "outputs": [
        {
          "name": "stdout",
          "output_type": "stream",
          "text": [
            "<class 'dict'>\n"
          ]
        }
      ],
      "source": [
        "#. Write a function to convert a list of tuples into a dictionary.\n",
        "def list_of_tuples_to_dict(list_of_tuples):\n",
        "    return dict(list_of_tuples)\n",
        "print(dict)"
      ]
    },
    {
      "cell_type": "code",
      "execution_count": null,
      "metadata": {
        "colab": {
          "base_uri": "https://localhost:8080/"
        },
        "id": "FI5NxCt-Km3_",
        "outputId": "cbe2197d-e8de-4430-acac-24f5b936d758"
      },
      "outputs": [
        {
          "name": "stdout",
          "output_type": "stream",
          "text": [
            "[2, 4, 6, 8, 10]\n"
          ]
        }
      ],
      "source": [
        "#. Create a program that generates a list of even numbers using a loop and lambda function.\n",
        "even_numbers = list(filter(lambda x: x % 2 == 0, range(1, 11)))\n",
        "print(even_numbers)"
      ]
    },
    {
      "cell_type": "code",
      "execution_count": null,
      "metadata": {
        "colab": {
          "base_uri": "https://localhost:8080/"
        },
        "id": "dX72U4EsLDEM",
        "outputId": "62ae2f57-9021-4223-e923-8bf04f26f426"
      },
      "outputs": [
        {
          "name": "stdout",
          "output_type": "stream",
          "text": [
            "[1, 2, 3, 4, 5, 6, 7]\n"
          ]
        }
      ],
      "source": [
        "#. Create a program to merge two lists without duplicates.\n",
        "list1 = [1, 2, 3, 4, 5]\n",
        "list2 = [3, 4, 5, 6, 7]\n",
        "merged_list = list(set(list1 + list2))\n",
        "print(merged_list)"
      ]
    },
    {
      "cell_type": "code",
      "execution_count": null,
      "metadata": {
        "colab": {
          "base_uri": "https://localhost:8080/"
        },
        "id": "NWeTmO_KLeWK",
        "outputId": "57548ddc-702c-4888-b983-cf4e529b2465"
      },
      "outputs": [
        {
          "data": {
            "text/plain": [
              "2"
            ]
          },
          "execution_count": 18,
          "metadata": {},
          "output_type": "execute_result"
        }
      ],
      "source": [
        "\n",
        "\n"
      ]
    },
    {
      "cell_type": "code",
      "execution_count": null,
      "metadata": {
        "colab": {
          "base_uri": "https://localhost:8080/"
        },
        "id": "tqQouKjmLtWc",
        "outputId": "1249330e-b1d5-4a05-ab16-42faba34ee62"
      },
      "outputs": [
        {
          "name": "stdout",
          "output_type": "stream",
          "text": [
            "120\n"
          ]
        }
      ],
      "source": [
        "# Write a function to find the factorial of a number using recursion.\n",
        "def factorial(n):\n",
        "    if n == 0:\n",
        "        return 1\n",
        "    else:\n",
        "        return n * factorial(n - 1)\n",
        "print(factorial(5))"
      ]
    },
    {
      "cell_type": "code",
      "execution_count": null,
      "metadata": {
        "id": "caUOUFA4L2oI"
      },
      "outputs": [],
      "source": [
        "#Write a program to convert a string to lowercase without using built-in functions."
      ]
    },
    {
      "cell_type": "code",
      "execution_count": null,
      "metadata": {
        "colab": {
          "base_uri": "https://localhost:8080/"
        },
        "id": "dYHmg9CuL-a_",
        "outputId": "ef5a5fa4-2e71-498c-c93a-0d2ff4f458cf"
      },
      "outputs": [
        {
          "name": "stdout",
          "output_type": "stream",
          "text": [
            "d\n"
          ]
        }
      ],
      "source": [
        "\n",
        "#Write a program to convert a string to lowercase without using built-in functions.\n",
        "def to_lowercase(string):\n",
        "    result = \"\"\n",
        "    for char in string:\n",
        "        if 'A' <= char <= 'Z':\n",
        "            result += chr(ord(char) + 32)\n",
        "        else:\n",
        "            result += char\n",
        "    return result\n",
        "print(result)"
      ]
    },
    {
      "cell_type": "code",
      "execution_count": null,
      "metadata": {
        "colab": {
          "base_uri": "https://localhost:8080/"
        },
        "id": "4YdmF-8pMFih",
        "outputId": "7d1d3373-9fb8-4700-e669-1edbdf16b736"
      },
      "outputs": [
        {
          "name": "stdout",
          "output_type": "stream",
          "text": [
            "Lowercase string: hello, world!\n"
          ]
        }
      ],
      "source": [
        "input_string = \"Hello, World!\"\n",
        "lowercase_string = \"\"\n",
        "\n",
        "for char in input_string:\n",
        "    # Check if the character is an uppercase letter\n",
        "    if 'A' <= char <= 'Z':\n",
        "        # Convert to lowercase by adding 32 to the ASCII value\n",
        "        lowercase_string += chr(ord(char) + 32)\n",
        "    else:\n",
        "        # If it's already lowercase or not a letter, keep it as is\n",
        "        lowercase_string += char\n",
        "\n",
        "print(\"Lowercase string:\", lowercase_string)\n"
      ]
    },
    {
      "cell_type": "code",
      "execution_count": null,
      "metadata": {
        "colab": {
          "base_uri": "https://localhost:8080/"
        },
        "id": "jwMzew2nMdiG",
        "outputId": "7226833a-33e9-4935-c7ff-cd8dc0897458"
      },
      "outputs": [
        {
          "name": "stdout",
          "output_type": "stream",
          "text": [
            "{'c', 'b'}\n"
          ]
        }
      ],
      "source": [
        "# Create a program that finds the common keys in two dictionaries.\n",
        "dict1 = {'a': 1, 'b': 2, 'c': 3}\n",
        "dict2 = {'b': 2, 'c': 3, 'd': 4}\n",
        "common_keys = set(dict1.keys()) & set(dict2.keys())\n",
        "print(common_keys)"
      ]
    },
    {
      "cell_type": "code",
      "execution_count": null,
      "metadata": {
        "colab": {
          "base_uri": "https://localhost:8080/"
        },
        "id": "y3lF0XFJNHwe",
        "outputId": "71dc5f30-43d4-4ef0-c7b3-b85e05a63c39"
      },
      "outputs": [
        {
          "name": "stdout",
          "output_type": "stream",
          "text": [
            "45\n"
          ]
        }
      ],
      "source": [
        "# Write a program to find the sum of elements in a nested list.\n",
        "nested_list = [[1, 2, 3], [4, 5], [6, 7, 8, 9]]\n",
        "total_sum = sum(sum(sublist) for sublist in nested_list)\n",
        "print(total_sum)"
      ]
    },
    {
      "cell_type": "code",
      "execution_count": null,
      "metadata": {
        "colab": {
          "base_uri": "https://localhost:8080/"
        },
        "id": "MskacxkXNep4",
        "outputId": "ba3eaa6a-aece-4a04-b5c7-236a60e46146"
      },
      "outputs": [
        {
          "name": "stdout",
          "output_type": "stream",
          "text": [
            "Index of element: 2\n"
          ]
        }
      ],
      "source": [
        "# Create a function to find the index of an element in a list.\n",
        "def find_index(lst, element):\n",
        "    for i in range(len(lst)):\n",
        "        if lst[i] == element:\n",
        "            return i\n",
        "    return -1  # Return -1 if the element is not found\n",
        "my_list = [10, 20, 30, 40, 50]\n",
        "element_to_find = 30\n",
        "index = find_index(my_list, element_to_find)\n",
        "print(\"Index of element:\", index)\n"
      ]
    },
    {
      "cell_type": "code",
      "execution_count": null,
      "metadata": {
        "colab": {
          "base_uri": "https://localhost:8080/"
        },
        "id": "TF8y3QswNzt6",
        "outputId": "a89c8d36-2cc3-435f-d3a5-41c000cb61d9"
      },
      "outputs": [
        {
          "name": "stdout",
          "output_type": "stream",
          "text": [
            "True\n"
          ]
        }
      ],
      "source": [
        "# Write a program to check if a number is a palindrome.\n",
        "def is_palindrome(number):\n",
        "    return str(number) == str(number)[::-1]\n",
        "print(is_palindrome(121))"
      ]
    },
    {
      "cell_type": "code",
      "execution_count": null,
      "metadata": {
        "colab": {
          "base_uri": "https://localhost:8080/"
        },
        "id": "KzkoBqetOfho",
        "outputId": "81e78085-61a8-4147-c470-eb15995e7530"
      },
      "outputs": [
        {
          "name": "stdout",
          "output_type": "stream",
          "text": [
            "String after replacing vowels: H*ll*, W*rld!\n"
          ]
        }
      ],
      "source": [
        "#. Write a program to replace vowels in a string with a specified character\n",
        "input_string = \"Hello, World!\"\n",
        "replacement_char = \"*\"\n",
        "vowels = \"aeiouAEIOU\"\n",
        "\n",
        "# Replace vowels with the specified character\n",
        "result_string = \"\".join(replacement_char if char in vowels else char for char in input_string)\n",
        "\n",
        "print(\"String after replacing vowels:\", result_string)\n"
      ]
    },
    {
      "cell_type": "code",
      "execution_count": null,
      "metadata": {
        "colab": {
          "base_uri": "https://localhost:8080/"
        },
        "id": "hmzFsMKtO4PP",
        "outputId": "9643802f-3d05-4bbf-b877-789ddde82815"
      },
      "outputs": [
        {
          "name": "stdout",
          "output_type": "stream",
          "text": [
            "Uppercase letters: 2\n",
            "Lowercase letters: 8\n"
          ]
        }
      ],
      "source": [
        "# Create a function to count the number of uppercase and lowercase letters in a string.\n",
        "\n",
        "input_string = \"Hello, World!\"\n",
        "uppercase_count = sum(1 for char in input_string if char.isupper())\n",
        "lowercase_count = sum(1 for char in input_string if char.islower())\n",
        "\n",
        "print(\"Uppercase letters:\", uppercase_count)\n",
        "print(\"Lowercase letters:\", lowercase_count)\n"
      ]
    },
    {
      "cell_type": "code",
      "execution_count": null,
      "metadata": {
        "colab": {
          "base_uri": "https://localhost:8080/"
        },
        "id": "RtgRN23iPSok",
        "outputId": "824451fe-426f-45b9-f8ff-1bbd149eeaa2"
      },
      "outputs": [
        {
          "name": "stdout",
          "output_type": "stream",
          "text": [
            "Mode(s): [4]\n"
          ]
        }
      ],
      "source": [
        "# Write a program to find the mode of a list of numbers.\n",
        "numbers = [1, 2, 2, 3, 4, 4, 4, 5, 5, 6]\n",
        "frequency = {}\n",
        "mode = []\n",
        "max_count = 0\n",
        "\n",
        "# Count occurrences of each number\n",
        "for num in numbers:\n",
        "    frequency[num] = frequency.get(num, 0) + 1\n",
        "    if frequency[num] > max_count:\n",
        "        max_count = frequency[num]\n",
        "\n",
        "# Find mode(s)\n",
        "for num, count in frequency.items():\n",
        "    if count == max_count:\n",
        "        mode.append(num)\n",
        "\n",
        "print(\"Mode(s):\", mode)\n",
        "\n",
        "\n"
      ]
    },
    {
      "cell_type": "code",
      "execution_count": null,
      "metadata": {
        "colab": {
          "base_uri": "https://localhost:8080/"
        },
        "id": "VpHOVaFsPa6i",
        "outputId": "ac38ec1d-a080-40ea-838a-672bdf56cd12"
      },
      "outputs": [
        {
          "name": "stdout",
          "output_type": "stream",
          "text": [
            "15\n"
          ]
        }
      ],
      "source": [
        "#Create a lambda function to find the product of two numbers.\n",
        "product = lambda x, y: x * y\n",
        "print(product(5, 3))"
      ]
    },
    {
      "cell_type": "code",
      "execution_count": null,
      "metadata": {
        "colab": {
          "base_uri": "https://localhost:8080/"
        },
        "id": "8m9BM3NRQJUi",
        "outputId": "01d5fe5a-53ab-4f4e-b280-b4b775a52cd0"
      },
      "outputs": [
        {
          "name": "stdout",
          "output_type": "stream",
          "text": [
            "Common elements: [4, 5]\n"
          ]
        }
      ],
      "source": [
        "#. Write a program to create a new list with elements that are common to two given lists\n",
        "list1 = [1, 2, 3, 4, 5]\n",
        "list2 = [4, 5, 6, 7, 8]\n",
        "\n",
        "# Create a new list with common elements\n",
        "common_elements = [element for element in list1 if element in list2]\n",
        "\n",
        "print(\"Common elements:\", common_elements)\n"
      ]
    },
    {
      "cell_type": "code",
      "execution_count": null,
      "metadata": {
        "colab": {
          "base_uri": "https://localhost:8080/"
        },
        "id": "CKJX6a1UUHze",
        "outputId": "bfca4e52-12cd-407c-93ae-3a4479a0a92f"
      },
      "outputs": [
        {
          "name": "stdout",
          "output_type": "stream",
          "text": [
            "String after removing vowels: Hll, Wrld!\n"
          ]
        }
      ],
      "source": [
        "# Write a program to remove all the vowels from a string.\n",
        "input_string = \"Hello, World!\"\n",
        "vowels = \"aeiouAEIOU\"\n",
        "\n",
        "result_string = ''.join([char for char in input_string if char not in vowels])\n",
        "\n",
        "print(\"String after removing vowels:\", result_string)\n"
      ]
    },
    {
      "cell_type": "code",
      "execution_count": null,
      "metadata": {
        "colab": {
          "base_uri": "https://localhost:8080/"
        },
        "id": "1U5tHGK4U1Rb",
        "outputId": "17d40039-e69c-4f00-8c3a-4f9308a70b66"
      },
      "outputs": [
        {
          "name": "stdout",
          "output_type": "stream",
          "text": [
            "Reversed list of tuples: [(2, 1), (4, 3), (6, 5)]\n"
          ]
        }
      ],
      "source": [
        "#. Create a function to reverse a list of tuples\n",
        "def reverse_tuples_list(tuples_list):\n",
        "    return [tup[::-1] for tup in tuples_list]\n",
        "my_tuples = [(1, 2), (3, 4), (5, 6)]\n",
        "reversed_tuples = reverse_tuples_list(my_tuples)\n",
        "print(\"Reversed list of tuples:\", reversed_tuples)\n"
      ]
    },
    {
      "cell_type": "code",
      "execution_count": null,
      "metadata": {
        "colab": {
          "base_uri": "https://localhost:8080/"
        },
        "id": "KIGKbflWVhPp",
        "outputId": "069db191-c96c-4aeb-a6fd-53bb29931b56"
      },
      "outputs": [
        {
          "name": "stdout",
          "output_type": "stream",
          "text": [
            "{'a': 1, 'b': 2, 'c': 3}\n"
          ]
        }
      ],
      "source": [
        "#. Write a program to create a dictionary from two lists\n",
        "keys = ['a', 'b', 'c']\n",
        "values = [1, 2, 3]\n",
        "my_dict = dict(zip(keys, values))\n",
        "print(my_dict)"
      ]
    },
    {
      "cell_type": "code",
      "execution_count": null,
      "metadata": {
        "colab": {
          "base_uri": "https://localhost:8080/"
        },
        "id": "dJ-BtMgoWLNK",
        "outputId": "76cdd99b-5d2a-4ff2-9403-e20a82010951"
      },
      "outputs": [
        {
          "name": "stdout",
          "output_type": "stream",
          "text": [
            "6\n"
          ]
        }
      ],
      "source": [
        " #Write a function to find the GCD (Greatest Common Divisor) of two numbers.\n",
        " def gcd(a, b):\n",
        "    while b:\n",
        "        a, b = b, a % b\n",
        "    return a\n",
        "print(gcd(12, 18))"
      ]
    },
    {
      "cell_type": "code",
      "execution_count": null,
      "metadata": {
        "colab": {
          "base_uri": "https://localhost:8080/"
        },
        "id": "GBldtdwPXC15",
        "outputId": "061436f5-71f4-41f6-89cc-df1b550520d3"
      },
      "outputs": [
        {
          "name": "stdout",
          "output_type": "stream",
          "text": [
            "True\n"
          ]
        }
      ],
      "source": [
        "# Create a program to check if a string contains only digits\n",
        "def contains_only_digits(string):\n",
        "    return string.isdigit()\n",
        "print(contains_only_digits(\"12345\"))"
      ]
    },
    {
      "cell_type": "code",
      "execution_count": null,
      "metadata": {
        "colab": {
          "base_uri": "https://localhost:8080/"
        },
        "id": "izIGFDmjXhe3",
        "outputId": "e17c047e-007e-4a81-f97b-3f0812899ab9"
      },
      "outputs": [
        {
          "name": "stdout",
          "output_type": "stream",
          "text": [
            "[(3, 1), (2, 2), (1, 3)]\n"
          ]
        }
      ],
      "source": [
        "#. Write a program to sort a list of tuples based on the second element.\n",
        "my_list = [(1, 3), (3, 1), (2, 2)]\n",
        "sorted_list = sorted(my_list, key=lambda x: x[1])\n",
        "print(sorted_list)"
      ]
    },
    {
      "cell_type": "code",
      "execution_count": null,
      "metadata": {
        "id": "ytMmL7hVX1MR"
      },
      "outputs": [],
      "source": [
        "#. Write a program to split a list into two parts, where the first part contains even numbers andhe second part contains odd numbers\n",
        "\n"
      ]
    },
    {
      "cell_type": "code",
      "execution_count": null,
      "metadata": {
        "colab": {
          "base_uri": "https://localhost:8080/",
          "height": 110
        },
        "id": "ZjWdsh5IYn8Q",
        "outputId": "88b1c0dd-17ba-4f17-9eb3-5652b22f58ba"
      },
      "outputs": [
        {
          "ename": "SyntaxError",
          "evalue": "expected ':' (<ipython-input-1-aa3ee98f41b9>, line 2)",
          "output_type": "error",
          "traceback": [
            "\u001b[0;36m  File \u001b[0;32m\"<ipython-input-1-aa3ee98f41b9>\"\u001b[0;36m, line \u001b[0;32m2\u001b[0m\n\u001b[0;31m    for i in range(\"5,0,1\")\u001b[0m\n\u001b[0m                           ^\u001b[0m\n\u001b[0;31mSyntaxError\u001b[0m\u001b[0;31m:\u001b[0m expected ':'\n"
          ]
        }
      ],
      "source": [
        "#star pattern\n",
        "for i in range(\"5,0,1\")\n",
        "a=\"*\"*i:\n",
        "print(a)\n"
      ]
    },
    {
      "cell_type": "code",
      "execution_count": null,
      "metadata": {
        "colab": {
          "base_uri": "https://localhost:8080/"
        },
        "id": "Tpc0cbAYq_J1",
        "outputId": "6710c9fe-3d36-4cd6-cea4-605ee40fe5b5"
      },
      "outputs": [
        {
          "name": "stdout",
          "output_type": "stream",
          "text": [
            "    *\n",
            "   ***\n",
            "  *****\n",
            " *******\n",
            "*********\n"
          ]
        }
      ],
      "source": [
        "rows = 5\n",
        "for i in range(1, rows + 1):\n",
        "    print(\" \" * (rows - i) + \"*\" * (2 * i - 1))\n",
        "\n",
        "\n"
      ]
    },
    {
      "cell_type": "code",
      "execution_count": null,
      "metadata": {
        "colab": {
          "base_uri": "https://localhost:8080/"
        },
        "id": "l20x_4Bl0OsP",
        "outputId": "9f560973-360c-4ffd-82b1-0a47ea66fd64"
      },
      "outputs": [
        {
          "name": "stdout",
          "output_type": "stream",
          "text": [
            "\n",
            "*\n",
            "**\n",
            "***\n",
            "****\n",
            "*****\n"
          ]
        }
      ],
      "source": [
        "#1. Print the following pattern.\n",
        "a=5\n",
        "for i in range(1+a):\n",
        "  print(\"*\"*i)"
      ]
    },
    {
      "cell_type": "code",
      "execution_count": null,
      "metadata": {
        "colab": {
          "base_uri": "https://localhost:8080/"
        },
        "id": "irkpCD4x2aFG",
        "outputId": "484c8194-d24b-4669-dfb6-e8b31c82100f"
      },
      "outputs": [
        {
          "name": "stdout",
          "output_type": "stream",
          "text": [
            "1 \n",
            "1 2 \n",
            "1 2 3 \n",
            "1 2 3 4 \n",
            "1 2 3 4 5 \n"
          ]
        }
      ],
      "source": [
        "#2. Write a program to print the following pattern using nested loops:\n",
        "for i in range(1,6):\n",
        "  for j in range(1,i+1):\n",
        "    print(j,end=\" \")\n",
        "  print()\n"
      ]
    },
    {
      "cell_type": "code",
      "execution_count": null,
      "metadata": {
        "colab": {
          "base_uri": "https://localhost:8080/"
        },
        "id": "FIOZFUu85nPp",
        "outputId": "b3ffff1c-d591-4f6c-ad80-96d8fa65127f"
      },
      "outputs": [
        {
          "name": "stdout",
          "output_type": "stream",
          "text": [
            "    *\n",
            "   **\n",
            "  ***\n",
            " ****\n",
            "*****\n"
          ]
        }
      ],
      "source": [
        "#3. Print a pattern that mirrors a right-angled triangle (e.g., with spaces on the left):\n",
        "a= 5\n",
        "for i in range(1 ,a+ 1):\n",
        "    print(\" \" * (a - i), end=\"\")\n",
        "    print(\"*\" * i)\n",
        "\n",
        "\n"
      ]
    },
    {
      "cell_type": "code",
      "execution_count": null,
      "metadata": {
        "colab": {
          "base_uri": "https://localhost:8080/"
        },
        "id": "2J4toQbx93Zv",
        "outputId": "11e6e646-413d-40a5-9a48-575359306e45"
      },
      "outputs": [
        {
          "name": "stdout",
          "output_type": "stream",
          "text": [
            "   *\n",
            "  ***\n",
            " *****\n",
            "*******\n"
          ]
        }
      ],
      "source": [
        "#4. Write a program to print a pyramid pattern of stars:\n",
        "a=4\n",
        "for i in range(1 ,a+ 1):\n",
        "    print(\" \" * (a- i) + \"*\" * (2 * i - 1))\n",
        "\n"
      ]
    },
    {
      "cell_type": "code",
      "execution_count": null,
      "metadata": {
        "colab": {
          "base_uri": "https://localhost:8080/"
        },
        "id": "TSYRXimvBbwy",
        "outputId": "0d658a65-4be0-441f-9968-587987cff1ed"
      },
      "outputs": [
        {
          "name": "stdout",
          "output_type": "stream",
          "text": [
            "  *\n",
            " ***\n",
            "*****\n",
            " ***\n",
            "  *\n"
          ]
        }
      ],
      "source": [
        "#5. Create a diamond shape pattern using*\n",
        "rows = 3\n",
        "\n",
        "for i in range(1, rows + 1):\n",
        "    print(\" \" * (rows - i) + \"*\" * (2 * i - 1))\n",
        "\n",
        "for i in range(rows - 1, 0, -1):\n",
        "    print(\" \" * (rows - i) + \"*\" * (2 * i - 1))\n"
      ]
    },
    {
      "cell_type": "code",
      "execution_count": null,
      "metadata": {
        "colab": {
          "base_uri": "https://localhost:8080/"
        },
        "id": "JddAQ7WcB1Vw",
        "outputId": "6dd8215d-cf61-4c0a-e6ee-d1d96d165554"
      },
      "outputs": [
        {
          "name": "stdout",
          "output_type": "stream",
          "text": [
            "1\n",
            "2\n",
            "3\n",
            "4\n",
            "6\n",
            "7\n",
            "8\n",
            "9\n",
            "10\n"
          ]
        }
      ],
      "source": [
        "#6. Write a program to print numbers from 1 to 10 but skip printing 5 using continue.\n",
        "for i in range (1,11):\n",
        "  if i==5:\n",
        "    continue\n",
        "  print(i)"
      ]
    },
    {
      "cell_type": "code",
      "execution_count": null,
      "metadata": {
        "colab": {
          "base_uri": "https://localhost:8080/"
        },
        "id": "QsoUxDypFYjH",
        "outputId": "9fe6326b-d72b-4463-f31c-f80a82709fcc"
      },
      "outputs": [
        {
          "name": "stdout",
          "output_type": "stream",
          "text": [
            "1\n",
            "2\n",
            "3\n"
          ]
        }
      ],
      "source": [
        "#7. Create a program that prints numbers from 1 to 10 but stops if it encounters a number divisible by 4 using break.\n",
        "for i in range(1, 11):\n",
        "    if i % 4 == 0:\n",
        "        break\n",
        "    print(i)"
      ]
    },
    {
      "cell_type": "code",
      "execution_count": null,
      "metadata": {
        "colab": {
          "base_uri": "https://localhost:8080/"
        },
        "id": "Q_OD_sL3FcC5",
        "outputId": "55115bb6-7f73-452b-e7f3-8c2ffd469b23"
      },
      "outputs": [
        {
          "name": "stdout",
          "output_type": "stream",
          "text": [
            "Enter something:ereferer\n",
            "You entered: ereferer\n",
            "Enter something:wdwdw\n",
            "You entered: wdwdw\n",
            "Enter something:lo\n",
            "You entered: lo\n",
            "Enter something:exit\n"
          ]
        }
      ],
      "source": [
        "#8. Write a program that takes user input continuously until the user enters exit using a while loop and break statement.\n",
        "while True:\n",
        "    user_input = input(\"Enter something:\")\n",
        "    if user_input == \"exit\":\n",
        "        break\n",
        "    print(\"You entered:\", user_input)\n",
        "\n"
      ]
    },
    {
      "cell_type": "code",
      "execution_count": null,
      "metadata": {
        "colab": {
          "base_uri": "https://localhost:8080/"
        },
        "id": "Pp5rQtO-Fv8u",
        "outputId": "754c642f-44fd-4b88-e25e-66a65b071bb6"
      },
      "outputs": [
        {
          "name": "stdout",
          "output_type": "stream",
          "text": [
            "2\n",
            "4\n",
            "6\n",
            "8\n",
            "10\n",
            "12\n"
          ]
        }
      ],
      "source": [
        "#9. Using a for loop, print all even numbers between 1 and 20, but stop if the number is greater than 12 using break.\n",
        "for i in range(1, 21):\n",
        "    if i % 2 == 0:\n",
        "        if i > 12:\n",
        "            break\n",
        "        print(i)\n",
        "\n"
      ]
    },
    {
      "cell_type": "code",
      "execution_count": null,
      "metadata": {
        "colab": {
          "base_uri": "https://localhost:8080/"
        },
        "id": "smuadzoHK5_T",
        "outputId": "94034401-f346-465b-ec3a-509432479494"
      },
      "outputs": [
        {
          "name": "stdout",
          "output_type": "stream",
          "text": [
            "Enter the No.==>45\n",
            "Enter the No.==>45\n",
            "Enter the No.==>45\n",
            "Enter the No.==>45\n",
            "Enter the No.==>545\n",
            "Enter the No.==>5\n"
          ]
        }
      ],
      "source": [
        "#10. Write a program that prompts the user for numbers until they enter a negative number, then prints the sum of all entered positive numbers. Use continue to skip negative numbers in the summation.\n",
        "sum=0\n",
        "while 1:\n",
        "    x=int(input(\"Enter the No.==>\"))\n",
        "    if x<0:\n",
        "        break\n",
        "    else:\n",
        "        sum += x\n",
        "print(f\"the sum of all positive number {sum}\")\n"
      ]
    },
    {
      "cell_type": "code",
      "execution_count": null,
      "metadata": {
        "colab": {
          "base_uri": "https://localhost:8080/"
        },
        "id": "YfAMsusVOKWL",
        "outputId": "9ea382b2-de85-4478-8791-39f3397ca68e"
      },
      "outputs": [
        {
          "name": "stdout",
          "output_type": "stream",
          "text": [
            "[2, 3]\n"
          ]
        }
      ],
      "source": [
        "def find_duplicates(nums):\n",
        "    duplicates = set()\n",
        "    seen = set()\n",
        "\n",
        "    for i in nums:\n",
        "        if i in seen:\n",
        "            duplicates.add(i)\n",
        "        else:\n",
        "            seen.add(i)\n",
        "\n",
        "    return list(duplicates)\n",
        "numbers = [1, 2, 3, 4, 2, 5, 6, 3, 7]\n",
        "print( find_duplicates(numbers))\n"
      ]
    },
    {
      "cell_type": "code",
      "execution_count": null,
      "metadata": {
        "colab": {
          "base_uri": "https://localhost:8080/"
        },
        "id": "-uFVzzCOGV_B",
        "outputId": "2cc11a63-b71e-42bf-a78d-70ddf94f89df"
      },
      "outputs": [
        {
          "name": "stdout",
          "output_type": "stream",
          "text": [
            "{2, 4}\n"
          ]
        }
      ],
      "source": [
        "\n",
        "nums = [1, 2, 2, 3, 4, 4]\n",
        "duplicates = set()\n",
        "seen = set()\n",
        "for i in nums:\n",
        "    if i in seen:\n",
        "        duplicates.add(i)\n",
        "    else:\n",
        "        seen.add(i)\n",
        "print( find_duplicates)"
      ]
    },
    {
      "cell_type": "code",
      "execution_count": null,
      "metadata": {
        "colab": {
          "background_save": true,
          "base_uri": "https://localhost:8080/",
          "height": 183
        },
        "id": "-SXPnBsqIKP7",
        "outputId": "78283466-52ab-4d0c-ca86-466d508c23b6"
      },
      "outputs": [
        {
          "name": "stdout",
          "output_type": "stream",
          "text": [
            "1,1\n",
            "1,2\n",
            "2,1\n",
            "2,2\n"
          ]
        }
      ],
      "source": [
        "numbers = [1, 2, 3]\n",
        "\n",
        "for i in numbers:         # Outer loop for first element\n",
        "    for j in numbers:     # Inner loop for second element\n",
        "        print(f\"{i},{j})\n"
      ]
    },
    {
      "cell_type": "code",
      "execution_count": null,
      "metadata": {
        "id": "TrA46qWFfGzU",
        "colab": {
          "base_uri": "https://localhost:8080/"
        },
        "outputId": "3487e06a-26ff-44de-f400-26f1eefc57b9"
      },
      "outputs": [
        {
          "output_type": "stream",
          "name": "stdout",
          "text": [
            "{'cat', 'lion', 'dog', 'donkey'}\n"
          ]
        }
      ],
      "source": [
        "#cerate the set\n",
        "myset={\"dog\",\"cat\",\"donkey\"}\n",
        "myset.add(\"lion\")#add the set\n",
        "print(myset)"
      ]
    },
    {
      "cell_type": "code",
      "source": [
        "myset.remove(\"cat\")#remove the animal\n",
        "print(myset)"
      ],
      "metadata": {
        "colab": {
          "base_uri": "https://localhost:8080/"
        },
        "id": "gF7aB5eF3IVe",
        "outputId": "dc36b2d3-af9e-40c5-becb-f08e853d5b73"
      },
      "execution_count": null,
      "outputs": [
        {
          "output_type": "stream",
          "name": "stdout",
          "text": [
            "{'lion', 'dog', 'donkey'}\n"
          ]
        }
      ]
    },
    {
      "cell_type": "code",
      "source": [
        "myset1={\"dog\",\"cat\",\"donkey\"}\n",
        "myset2={\"raj\",\"sam\",\"sanket\"}\n",
        "myset1.update(myset2)\n",
        "print(myset1)"
      ],
      "metadata": {
        "colab": {
          "base_uri": "https://localhost:8080/"
        },
        "id": "wAjMC9PJ3e-I",
        "outputId": "4ecb7be3-9d3e-4425-e557-a526f5464b9c"
      },
      "execution_count": null,
      "outputs": [
        {
          "output_type": "stream",
          "name": "stdout",
          "text": [
            "{'donkey', 'raj', 'sam', 'cat', 'dog', 'sanket'}\n"
          ]
        }
      ]
    },
    {
      "cell_type": "code",
      "source": [
        "#Write a Python program to create a set and add multiple items to it.\n",
        "myset={1,2,3,4,5,6}\n",
        "print(myset)"
      ],
      "metadata": {
        "colab": {
          "base_uri": "https://localhost:8080/"
        },
        "id": "GcqlWNbU4QgS",
        "outputId": "5da54d1a-63cf-4f4f-8c4d-d6518ef55e40"
      },
      "execution_count": null,
      "outputs": [
        {
          "output_type": "stream",
          "name": "stdout",
          "text": [
            "{1, 2, 3, 4, 5, 6}\n"
          ]
        }
      ]
    },
    {
      "cell_type": "code",
      "source": [
        "#Given a set {1, 2, 3, 4, 5}, write a Python program to add an element 6 to this set.\n",
        "myset={1,2,3,4,5}\n",
        "myset.add(6)\n",
        "print(myset)"
      ],
      "metadata": {
        "colab": {
          "base_uri": "https://localhost:8080/"
        },
        "id": "hGkKxXTn4x2H",
        "outputId": "108550c4-d44b-421e-e944-d5cad2fffc03"
      },
      "execution_count": null,
      "outputs": [
        {
          "output_type": "stream",
          "name": "stdout",
          "text": [
            "{1, 2, 3, 4, 5, 6}\n"
          ]
        }
      ]
    },
    {
      "cell_type": "code",
      "source": [
        "#Write a Python program to remove an element 2 from the set {1, 2, 3, 4, 5}\n",
        "myset={1,2,3,4,5}\n",
        "myset.remove(2)\n",
        "print(myset)\n"
      ],
      "metadata": {
        "colab": {
          "base_uri": "https://localhost:8080/"
        },
        "id": "1oeTtbdU45Am",
        "outputId": "81ffcae0-130b-4898-c05e-0ecfedb51bf1"
      },
      "execution_count": null,
      "outputs": [
        {
          "output_type": "stream",
          "name": "stdout",
          "text": [
            "{1, 3, 4, 5}\n"
          ]
        }
      ]
    },
    {
      "cell_type": "code",
      "source": [
        "#How can you find the union of two sets {1, 2, 3} and {3, 4, 5}?\n",
        "set1={1,2,3}\n",
        "set2={3,4,5}\n",
        "union=set1.union(set2)\n",
        "print(union)"
      ],
      "metadata": {
        "colab": {
          "base_uri": "https://localhost:8080/"
        },
        "id": "2U2zU7655EV-",
        "outputId": "611c3265-96dc-46d7-fc35-89a5772db878"
      },
      "execution_count": null,
      "outputs": [
        {
          "output_type": "stream",
          "name": "stdout",
          "text": [
            "{1, 2, 3, 4, 5}\n"
          ]
        }
      ]
    },
    {
      "cell_type": "code",
      "source": [
        "#Write a Python program to find the intersection of sets {10, 20, 30, 40} and {30, 40, 50, 60}.\n",
        "set1={10,20,30,40}\n",
        "set2={30,40,50,60}\n",
        "intersection=set1.intersection(set2)\n",
        "print(intersection)"
      ],
      "metadata": {
        "colab": {
          "base_uri": "https://localhost:8080/"
        },
        "id": "b_6qb7F25VPQ",
        "outputId": "26deca61-5a18-4642-e039-96b1ce05e776"
      },
      "execution_count": null,
      "outputs": [
        {
          "output_type": "stream",
          "name": "stdout",
          "text": [
            "{40, 30}\n"
          ]
        }
      ]
    },
    {
      "cell_type": "code",
      "source": [
        "#Given two sets {1, 2, 3} and {3, 4, 5}, write a Python program to find their difference.\n",
        "set1={1,2,3}\n",
        "set2={3,4,5}\n",
        "difference=set1.difference(set2)\n",
        "difference1=set2.difference(set1)\n",
        "print(difference)\n",
        "print(difference1)"
      ],
      "metadata": {
        "colab": {
          "base_uri": "https://localhost:8080/"
        },
        "id": "SuS4yXWY5sK8",
        "outputId": "e77549f0-cb48-49fe-a077-1b3d24961d0a"
      },
      "execution_count": null,
      "outputs": [
        {
          "output_type": "stream",
          "name": "stdout",
          "text": [
            "{1, 2}\n",
            "{4, 5}\n"
          ]
        }
      ]
    },
    {
      "cell_type": "code",
      "source": [
        "#Write a Python program to check if {1, 2} is a subset of {1, 2, 3, 4}.\n",
        "set1={1,2}\n",
        "set2={1,2,3,4}\n",
        "subset=set1.issubset(set2)\n",
        "print(subset)"
      ],
      "metadata": {
        "colab": {
          "base_uri": "https://localhost:8080/"
        },
        "id": "uNlK_ha26H6K",
        "outputId": "c4e742ef-9e95-41fd-9d8c-76a602a16243"
      },
      "execution_count": null,
      "outputs": [
        {
          "output_type": "stream",
          "name": "stdout",
          "text": [
            "True\n"
          ]
        }
      ]
    },
    {
      "cell_type": "code",
      "source": [
        "#How can you clear all elements from a set?\n",
        "myset={1,2,3,4,5}\n",
        "myset.clear()\n",
        "print(myset)"
      ],
      "metadata": {
        "colab": {
          "base_uri": "https://localhost:8080/"
        },
        "id": "PQ5qFnGD6l09",
        "outputId": "70236a4a-f3b4-477a-af36-ecfe78424fce"
      },
      "execution_count": null,
      "outputs": [
        {
          "output_type": "stream",
          "name": "stdout",
          "text": [
            "set()\n"
          ]
        }
      ]
    },
    {
      "cell_type": "code",
      "source": [
        "#Write a Python program to find the length of a set {10, 20, 30, 40, 50}.\n",
        "myset={10,20,30,40,50}\n",
        "length=len(myset)\n",
        "print(length)"
      ],
      "metadata": {
        "colab": {
          "base_uri": "https://localhost:8080/"
        },
        "id": "-a3nsmc460Xc",
        "outputId": "c9a620ad-3e51-4bd3-e2d2-9d24af47a050"
      },
      "execution_count": null,
      "outputs": [
        {
          "output_type": "stream",
          "name": "stdout",
          "text": [
            "5\n"
          ]
        }
      ]
    },
    {
      "cell_type": "code",
      "source": [
        "#Create two sets {1, 2, 3} and {4, 5, 6} and check if they are disjoint sets.\n",
        "set1={1,2,3}\n",
        "set2={4,5,6}\n",
        "disjoint=set1.isdisjoint(set2)\n",
        "print(disjoint)"
      ],
      "metadata": {
        "colab": {
          "base_uri": "https://localhost:8080/"
        },
        "id": "bjHMIuQE664V",
        "outputId": "8da75bef-9330-43e0-8ade-0f4ed3314457"
      },
      "execution_count": null,
      "outputs": [
        {
          "output_type": "stream",
          "name": "stdout",
          "text": [
            "True\n"
          ]
        }
      ]
    },
    {
      "cell_type": "code",
      "source": [
        "# 1.Write a program to find the most common element in a list using sets.\n",
        "def comman(lst):\n",
        "    un_elemnt=set(lst)\n",
        "    max_count=o\n",
        "    most_comman=[]\n",
        "    for i in un_elemnt:\n",
        "        count=lst.count(i)\n",
        "        x=[1,2,2,3,1,2,3,4,2,2,1,1]\n",
        "        print(comman(x))\n"
      ],
      "metadata": {
        "id": "lfuV7Nn36-uZ"
      },
      "execution_count": null,
      "outputs": []
    },
    {
      "cell_type": "code",
      "source": [
        "#find the unique vowels in string using set\n",
        "def find_unique_vowels(string):\n",
        "    vowels = {'a', 'e', 'i', 'o', 'u'}\n",
        "    unique_vowels = vowels.intersection(set(string.lower()))\n",
        "    return len(unique_vowels)\n",
        "    string = \"hello world\"\n",
        "print(find_unique_vowels('string'))\n",
        "print(find_unique_vowels(\"aouie\"))\n",
        "\n",
        "\n"
      ],
      "metadata": {
        "colab": {
          "base_uri": "https://localhost:8080/"
        },
        "id": "u6IcvhyyBSC_",
        "outputId": "30481bc5-6302-49f5-9486-12a19c9773ee"
      },
      "execution_count": null,
      "outputs": [
        {
          "output_type": "stream",
          "name": "stdout",
          "text": [
            "1\n",
            "5\n"
          ]
        }
      ]
    },
    {
      "cell_type": "code",
      "source": [
        "#Write a Python program to create a dictionary with keys as numbers from 1 to 5 and values as their squares (e.g., {1: 1, 2: 4, 3: 9, 4: 16, 5: 25}).\n",
        "def create_square_dict(n):\n",
        "    square_dict = {}\n",
        "    for i in range(1, n + 1):\n",
        "        square_dict[i] = i * i\n",
        "    return square_dict\n",
        "print(create_square_dict(5))\n",
        "\n",
        "\n",
        "\n"
      ],
      "metadata": {
        "colab": {
          "base_uri": "https://localhost:8080/"
        },
        "id": "7s8_UyTuLuuG",
        "outputId": "5d8d120f-10bd-4247-ec13-13ac20d99118"
      },
      "execution_count": null,
      "outputs": [
        {
          "output_type": "stream",
          "name": "stdout",
          "text": [
            "{1: 1, 2: 4, 3: 9, 4: 16, 5: 25}\n"
          ]
        }
      ]
    },
    {
      "cell_type": "code",
      "source": [
        " #Given the dictionary employee = {'name': 'John', 'age': 30, 'department': 'HR'}, write code to access and print the value associated with the key 'department'.\n",
        "employee={'name': 'John', 'age': 30, 'department': 'HR'}\n",
        "print(employee['department'])\n"
      ],
      "metadata": {
        "colab": {
          "base_uri": "https://localhost:8080/"
        },
        "id": "lo-DY6LnUea5",
        "outputId": "61e0635d-4b69-4cc0-9a1c-c0a239ca42d7"
      },
      "execution_count": null,
      "outputs": [
        {
          "output_type": "stream",
          "name": "stdout",
          "text": [
            "HR\n"
          ]
        }
      ]
    },
    {
      "cell_type": "code",
      "source": [
        "#Given the dictionary student = {'name': 'Alice', 'marks': 85}, write a program to update the marks to 95.\n",
        "student = {'name': 'Anand', 'marks': 85}\n",
        "student['marks']=95\n",
        "print(student)"
      ],
      "metadata": {
        "colab": {
          "base_uri": "https://localhost:8080/"
        },
        "id": "OgHf91olWYHX",
        "outputId": "cb4bf0ac-f269-4d8d-ac10-bfc6bc8e46ce"
      },
      "execution_count": null,
      "outputs": [
        {
          "output_type": "stream",
          "name": "stdout",
          "text": [
            "{'name': 'Anand', 'marks': 95}\n"
          ]
        }
      ]
    },
    {
      "cell_type": "code",
      "source": [
        "#Write a program to add a new key 'subject' with value 'Math' to the dictionary grades = {'student': 'Emma', 'grade': 'A'}.\n",
        "mydict={\n",
        "    'student': 'Emma',\n",
        "     'grade': 'A'\n",
        "}\n",
        "mydict['subject']=\"math\"\n",
        "print(mydict)"
      ],
      "metadata": {
        "colab": {
          "base_uri": "https://localhost:8080/"
        },
        "id": "EgKG8yFZWjMX",
        "outputId": "24bf88a0-5599-4dd0-f3d1-76a737b6bf67"
      },
      "execution_count": null,
      "outputs": [
        {
          "output_type": "stream",
          "name": "stdout",
          "text": [
            "{'student': 'Emma', 'grade': 'A', 'subject': 'math'}\n"
          ]
        }
      ]
    },
    {
      "cell_type": "code",
      "source": [
        "\n",
        "#Write a Python program to remove the key 'age' from the dictionary person = {'name': 'Sara', 'age': 25, 'city': 'New York'}.\n",
        "mydict={\n",
        "    'name': 'Sara',\n",
        "     'age': 25,\n",
        "     'city': 'New York'\n",
        "}\n",
        "del mydict['age']\n",
        "print(mydict)"
      ],
      "metadata": {
        "colab": {
          "base_uri": "https://localhost:8080/"
        },
        "id": "V0vnySAqXKp9",
        "outputId": "6380fcb4-09e7-4c9f-9d14-bc8c6980d670"
      },
      "execution_count": null,
      "outputs": [
        {
          "output_type": "stream",
          "name": "stdout",
          "text": [
            "{'name': 'Sara', 'city': 'New York'}\n"
          ]
        }
      ]
    },
    {
      "cell_type": "code",
      "source": [
        "#Write a Python function that checks if a given key exists in the dictionary inventory = {'apple': 10, 'banana': 5, 'orange': 8}.\n",
        "def check_key(key):\n",
        "    inventory = {'apple': 10, 'banana': 5, 'orange': 8}\n",
        "    if key in inventory:\n",
        "        return True\n",
        "    else:\n",
        "        return False\n",
        "\n",
        "print(check_key(\"key\"))"
      ],
      "metadata": {
        "colab": {
          "base_uri": "https://localhost:8080/"
        },
        "id": "iO6S6vghXTmh",
        "outputId": "9e99f261-5771-407c-e7c6-8b00fa04a948"
      },
      "execution_count": null,
      "outputs": [
        {
          "output_type": "stream",
          "name": "stdout",
          "text": [
            "False\n"
          ]
        }
      ]
    },
    {
      "cell_type": "code",
      "source": [
        "#Write a Python program to iterate over the dictionary car = {'brand': 'Toyota', 'model': 'Corolla', 'year': 2022} and print each key-value pair.\n",
        "car = {'brand': 'Toyota', 'model': 'Corolla', 'year': 2022}\n",
        "for key,value in car.items():\n",
        "    print(key,value)"
      ],
      "metadata": {
        "colab": {
          "base_uri": "https://localhost:8080/"
        },
        "id": "FBEouV_jX3h1",
        "outputId": "70743408-c457-4761-d147-0579682e0369"
      },
      "execution_count": null,
      "outputs": [
        {
          "output_type": "stream",
          "name": "stdout",
          "text": [
            "brand Toyota\n",
            "model Corolla\n",
            "year 2022\n"
          ]
        }
      ]
    },
    {
      "cell_type": "code",
      "source": [
        "#Given two dictionaries, dict1 = {'a': 1, 'b': 2} and dict2 = {'b': 3, 'c': 4}, write a Python program to merge them into a single dictionary. If there are duplicate keys, the value from dict2 should overwrite dict1.\n",
        "dict1 = {'a': 1, 'b': 2}\n",
        "dict2 = {'b': 3, 'c': 4}\n",
        "dict1.update(dict2)\n",
        "print(dict1)"
      ],
      "metadata": {
        "colab": {
          "base_uri": "https://localhost:8080/"
        },
        "id": "grYvtYbHYwhO",
        "outputId": "6ec479f7-5e31-4f18-a7c6-0270d29644e4"
      },
      "execution_count": null,
      "outputs": [
        {
          "output_type": "stream",
          "name": "stdout",
          "text": [
            "{'a': 1, 'b': 3, 'c': 4}\n"
          ]
        }
      ]
    },
    {
      "cell_type": "code",
      "source": [
        "#Write a Python program to find the key with the highest value in the dictionary scores = {'Alice': 90, 'Bob': 85, 'Charlie': 92}\n",
        "mydict={\n",
        "    'Alice': 90,\n",
        "    'Bob': 85,\n",
        "    'Charlie': 92\n",
        "}\n",
        "for key,value in mydict.items():\n",
        "    if value==max(mydict.values()):\n",
        "        print(key)"
      ],
      "metadata": {
        "colab": {
          "base_uri": "https://localhost:8080/"
        },
        "id": "e9cSoKkVY8FP",
        "outputId": "1c4f9a01-58f7-462a-9ce4-7922a7678512"
      },
      "execution_count": null,
      "outputs": [
        {
          "output_type": "stream",
          "name": "stdout",
          "text": [
            "Charlie\n"
          ]
        }
      ]
    },
    {
      "cell_type": "code",
      "source": [
        "#Write a Python dictionary comprehension to create a dictionary where the keys are numbers from 1 to 5 and the values are the cubes of the keys (e.g., {1: 1, 2: 8, 3: 27, 4: 64, 5: 125}).\n",
        "mydict={i:i**3 for i in range(1,6)}\n",
        "print(mydict)"
      ],
      "metadata": {
        "colab": {
          "base_uri": "https://localhost:8080/"
        },
        "id": "uwqqlC-oZ7Nh",
        "outputId": "e1d4c2b4-d1dd-4f4f-815e-2120a317fd8c"
      },
      "execution_count": null,
      "outputs": [
        {
          "output_type": "stream",
          "name": "stdout",
          "text": [
            "{1: 1, 2: 8, 3: 27, 4: 64, 5: 125}\n"
          ]
        }
      ]
    },
    {
      "cell_type": "code",
      "source": [
        "#lambda\n",
        "add=lambda x,y:x+y\n",
        "print(add(5,6))"
      ],
      "metadata": {
        "id": "Hxvun4t-bVbJ",
        "colab": {
          "base_uri": "https://localhost:8080/"
        },
        "outputId": "7f46f763-5310-4ec6-90f9-23af688af00a"
      },
      "execution_count": null,
      "outputs": [
        {
          "output_type": "stream",
          "name": "stdout",
          "text": [
            "11\n"
          ]
        }
      ]
    },
    {
      "cell_type": "code",
      "source": [
        "multiply=lambda x,y:x*y\n",
        "print(multiply(7,6))"
      ],
      "metadata": {
        "colab": {
          "base_uri": "https://localhost:8080/"
        },
        "id": "G00RgYi6vJZG",
        "outputId": "ac874480-3050-4a1d-b152-8ea0a8ffbb26"
      },
      "execution_count": null,
      "outputs": [
        {
          "output_type": "stream",
          "name": "stdout",
          "text": [
            "42\n"
          ]
        }
      ]
    },
    {
      "cell_type": "code",
      "source": [
        "divide=lambda x,y:x/y\n",
        "print(divide(23,7))"
      ],
      "metadata": {
        "colab": {
          "base_uri": "https://localhost:8080/"
        },
        "id": "lm_tzYpSvfgM",
        "outputId": "c92a0b02-9bc4-43cf-b997-ad1ad9581273"
      },
      "execution_count": null,
      "outputs": [
        {
          "output_type": "stream",
          "name": "stdout",
          "text": [
            "3.2857142857142856\n"
          ]
        }
      ]
    },
    {
      "cell_type": "code",
      "source": [
        "def myfun(a):\n",
        "    return lambda h:a*h\n",
        "\n",
        "g=myfun(4)\n",
        "print(g(5))\n"
      ],
      "metadata": {
        "colab": {
          "base_uri": "https://localhost:8080/"
        },
        "id": "yDDnc7J2wH-Z",
        "outputId": "7314fc55-7a65-4ae9-f49b-e2bea9912b57"
      },
      "execution_count": null,
      "outputs": [
        {
          "output_type": "stream",
          "name": "stdout",
          "text": [
            "20\n"
          ]
        }
      ]
    },
    {
      "cell_type": "code",
      "source": [
        "calculator = {\n",
        "    'add': lambda x, y: x + y,\n",
        "    'subtract': lambda x, y: x - y,\n",
        "    'multiply': lambda x, y: x * y,\n",
        "    'divide': lambda x, y: x / y if y != 0 else 'Undefined'\n",
        "}\n",
        "print(calculator['add'](1,8))\n",
        "print(calculator['subtract'](10, 4))\n",
        "print(calculator['multiply'](6, 7))\n",
        "print(calculator['divide'](15, 3))"
      ],
      "metadata": {
        "colab": {
          "base_uri": "https://localhost:8080/"
        },
        "id": "SgLsey7SxDcf",
        "outputId": "376b653d-dd7e-4e0e-ca25-7242f1371e5e"
      },
      "execution_count": null,
      "outputs": [
        {
          "output_type": "stream",
          "name": "stdout",
          "text": [
            "9\n",
            "6\n",
            "42\n",
            "5.0\n"
          ]
        }
      ]
    },
    {
      "cell_type": "code",
      "source": [
        "print((lambda x, y: x ** y)(2, 3))"
      ],
      "metadata": {
        "colab": {
          "base_uri": "https://localhost:8080/"
        },
        "id": "UZx-0Od8zlgF",
        "outputId": "46af8074-802e-48e4-8121-7413b7c2585e"
      },
      "execution_count": null,
      "outputs": [
        {
          "output_type": "stream",
          "name": "stdout",
          "text": [
            "8\n"
          ]
        }
      ]
    },
    {
      "cell_type": "code",
      "source": [
        "#Write a lambda function to add two numbers and use it to add 12 and 7.\n",
        "add = lambda x, y: x + y\n",
        "print(add(12, 7))\n",
        "\n"
      ],
      "metadata": {
        "colab": {
          "base_uri": "https://localhost:8080/"
        },
        "id": "dXAH7MQ00WVh",
        "outputId": "77206fcf-d170-410d-94ec-0bc38b908e6a"
      },
      "execution_count": null,
      "outputs": [
        {
          "output_type": "stream",
          "name": "stdout",
          "text": [
            "19\n"
          ]
        }
      ]
    },
    {
      "cell_type": "code",
      "source": [
        "#Create a lambda function that takes a number as input and returns its cube. Test it with the number 5.\n",
        "cube = lambda x: x ** 3\n",
        "a=int(input(\"enter the number\"))\n",
        "print(cube(a))"
      ],
      "metadata": {
        "colab": {
          "base_uri": "https://localhost:8080/"
        },
        "id": "f3Vj0pWL1Sig",
        "outputId": "fdc7d758-0b21-4697-857d-53645b23c2a5"
      },
      "execution_count": null,
      "outputs": [
        {
          "output_type": "stream",
          "name": "stdout",
          "text": [
            "enter the number4\n",
            "64\n"
          ]
        }
      ]
    },
    {
      "cell_type": "code",
      "source": [
        "#You have a list of tuples with names and heights: [('John', 5.8), ('Anna', 5.5), ('Mike', 6.0)]. Use a lambda function with the sorted() method to sort this list by height in descending order.\n",
        "employees = [('Alice', 30), ('Bob', 25), ('Charlie', 35)]\n",
        "sorted_employees = sorted(employees, key=lambda x: x[1])\n",
        "print(sorted_employees)  # Expected Output: [('Bob', 25), ('Alice', 30), ('Charlie', 35)]"
      ],
      "metadata": {
        "colab": {
          "base_uri": "https://localhost:8080/"
        },
        "id": "sIWFQJtM1Zwb",
        "outputId": "b1590439-2261-41e9-ae9b-adb164041068"
      },
      "execution_count": null,
      "outputs": [
        {
          "output_type": "stream",
          "name": "stdout",
          "text": [
            "[('Bob', 25), ('Alice', 30), ('Charlie', 35)]\n"
          ]
        }
      ]
    },
    {
      "cell_type": "code",
      "source": [
        "#Given a list of numbers [10, 15, 20, 25, 30], use a lambda function with the filter() method to get numbers that are divisible by 5.\n",
        "numbers = [10, 15, 20, 25, 30]\n",
        "list(filter(lambda x: x % 5 == 0, numbers))\n"
      ],
      "metadata": {
        "colab": {
          "base_uri": "https://localhost:8080/"
        },
        "id": "mvRzIWo22Ulq",
        "outputId": "3ba52fae-9750-4c69-b065-88b93a44d07f"
      },
      "execution_count": null,
      "outputs": [
        {
          "output_type": "execute_result",
          "data": {
            "text/plain": [
              "[10, 15, 20, 25, 30]"
            ]
          },
          "metadata": {},
          "execution_count": 125
        }
      ]
    },
    {
      "cell_type": "code",
      "source": [
        "#Given a list [3, 6, 9, 12], use a lambda function with the map() method to square each element in the list.\n",
        "numbers = [3, 6, 9, 12]\n",
        "squared_numbers = list(map(lambda x: x ** 2, numbers))\n",
        "print(squared_numbers)\n",
        "\n",
        "\n"
      ],
      "metadata": {
        "colab": {
          "base_uri": "https://localhost:8080/"
        },
        "id": "rDpHcSVp3D5r",
        "outputId": "d439fa86-2d2d-4c99-c5f3-635bf290cd56"
      },
      "execution_count": null,
      "outputs": [
        {
          "output_type": "stream",
          "name": "stdout",
          "text": [
            "[9, 36, 81, 144]\n"
          ]
        }
      ]
    },
    {
      "cell_type": "code",
      "source": [
        "#if else"
      ],
      "metadata": {
        "id": "XtWYrMYr4xe7"
      },
      "execution_count": null,
      "outputs": []
    },
    {
      "cell_type": "code",
      "source": [
        "#Write a Python program that checks if a given number is positive, negative, or zero\n",
        "num=int(input(\"enter the number\"))\n",
        "if num>0:\n",
        "    print(\"positive\")\n",
        "elif num<0:\n",
        "    print(\"negative\")\n",
        "else:\n",
        "    print"
      ],
      "metadata": {
        "colab": {
          "base_uri": "https://localhost:8080/"
        },
        "id": "kXCPb8tf50Bt",
        "outputId": "81623ad1-42d0-4506-92d6-d3cb4785a6b8"
      },
      "execution_count": null,
      "outputs": [
        {
          "output_type": "stream",
          "name": "stdout",
          "text": [
            "enter the number6\n",
            "positive\n"
          ]
        }
      ]
    },
    {
      "cell_type": "code",
      "source": [
        "#Write a Python program that checks if a given year is a leap year or not.\n",
        "is_leap_year = lambda year: (\n",
        "    \"Leap year\" if (year % 4 == 0 and (year % 100 != 0 or year % 400 == 0))\n",
        "    else \"Not a leap year\"\n",
        ")\n",
        "print(is_leap_year)\n"
      ],
      "metadata": {
        "colab": {
          "base_uri": "https://localhost:8080/"
        },
        "id": "Untzup6v6AyR",
        "outputId": "b0d4279d-b335-4721-edc4-daa391b76ebe"
      },
      "execution_count": null,
      "outputs": [
        {
          "output_type": "stream",
          "name": "stdout",
          "text": [
            "Enter a year: 2024\n",
            "Leap year\n"
          ]
        }
      ]
    },
    {
      "cell_type": "code",
      "source": [
        "#: Write a Python program to check if a given number is even or odd.\n",
        "\n",
        "is_even_or_odd = lambda num: \"Even\" if num % 2 == 0 else \"Odd\"\n",
        "print(is_even_or_odd(34))\n",
        "\n"
      ],
      "metadata": {
        "colab": {
          "base_uri": "https://localhost:8080/"
        },
        "id": "5kSFLChq65Ee",
        "outputId": "6f4988a4-2083-464e-afb6-7a63452c9dd2"
      },
      "execution_count": null,
      "outputs": [
        {
          "output_type": "stream",
          "name": "stdout",
          "text": [
            "Even\n"
          ]
        }
      ]
    },
    {
      "cell_type": "code",
      "source": [
        "#Write a Python program that accepts a number from the user and checks if it is divisible by 5 and 3.\n",
        "number = 15\n",
        "if number % 5 == 0 and number % 3 == 0:\n",
        "    print(\"Divisible by both 5 and 3\")\n",
        "else:\n",
        "    print(\"Not divisible by both 5 and 3\")\n"
      ],
      "metadata": {
        "colab": {
          "base_uri": "https://localhost:8080/"
        },
        "id": "eNrnSObR7kGG",
        "outputId": "b754b98f-21a7-49ad-8f0a-5db906701674"
      },
      "execution_count": null,
      "outputs": [
        {
          "output_type": "stream",
          "name": "stdout",
          "text": [
            "Divisible by both 5 and 3\n"
          ]
        }
      ]
    },
    {
      "cell_type": "code",
      "source": [
        "#Write a Python program that finds the largest of three given numbers.\n",
        "num1 = 45\n",
        "num2 = 76\n",
        "num3 = 90\n",
        "if num1 >= num2 and num1 >= num3:\n",
        "    largest = num1\n",
        "elif num2 >= num1 and num2 >= num3:\n",
        "    largest = num2\n",
        "else:\n",
        "    largest = num3\n",
        "print(\"The largest number is:\", largest)\n"
      ],
      "metadata": {
        "colab": {
          "base_uri": "https://localhost:8080/"
        },
        "id": "6xw-Cn2T9Hp_",
        "outputId": "2d1b11c6-ffcf-4eb8-f9de-4c0cceb76842"
      },
      "execution_count": null,
      "outputs": [
        {
          "output_type": "stream",
          "name": "stdout",
          "text": [
            "The largest number is: 90\n"
          ]
        }
      ]
    },
    {
      "cell_type": "code",
      "source": [
        "#Write a Python program that prints numbers from 1 to 10 using a while loop.\n",
        "num = 1\n",
        "while num <= 10:\n",
        "    print(num)\n",
        "    num += 1\n"
      ],
      "metadata": {
        "id": "31dttf6r-Ej3",
        "colab": {
          "base_uri": "https://localhost:8080/"
        },
        "outputId": "a8f772b0-6d3f-413f-c630-26eb9074667c"
      },
      "execution_count": null,
      "outputs": [
        {
          "output_type": "stream",
          "name": "stdout",
          "text": [
            "1\n",
            "2\n",
            "3\n",
            "4\n",
            "5\n",
            "6\n",
            "7\n",
            "8\n",
            "9\n",
            "10\n"
          ]
        }
      ]
    },
    {
      "cell_type": "code",
      "source": [
        "#Write a Python program that calculates the sum of all numbers from 1 to a given number n using a while loop.\n",
        "n = 10\n",
        "total_sum = 0\n",
        "num = 1\n",
        "while num <= n:\n",
        "    total_sum += num\n",
        "    num += 1\n",
        "print(total_sum)\n"
      ],
      "metadata": {
        "colab": {
          "base_uri": "https://localhost:8080/"
        },
        "id": "PemQPz-c_GDC",
        "outputId": "fb0e139b-2f8e-4475-9d30-0f013a3990cd"
      },
      "execution_count": null,
      "outputs": [
        {
          "output_type": "stream",
          "name": "stdout",
          "text": [
            "55\n"
          ]
        }
      ]
    },
    {
      "cell_type": "code",
      "source": [
        "#Write a Python program to find the factorial of a given number using a while loop.\n",
        "n = 5\n",
        "factorial = 1\n",
        "num = n\n",
        "while num > 1:\n",
        "    factorial *= num\n",
        "    num -= 1\n",
        "print( factorial)\n"
      ],
      "metadata": {
        "colab": {
          "base_uri": "https://localhost:8080/"
        },
        "id": "f5j_KHwJ_4Df",
        "outputId": "c3a1ec36-79b9-4501-85be-806723a281ab"
      },
      "execution_count": null,
      "outputs": [
        {
          "output_type": "stream",
          "name": "stdout",
          "text": [
            "120\n"
          ]
        }
      ]
    },
    {
      "cell_type": "code",
      "source": [
        "#Write a Python program that asks the user to enter a number and keeps asking until the user enters a positive number.\n",
        "while True:\n",
        "    number = int(input(\"Enter a positive number: \"))\n",
        "    if number > 0:\n",
        "        print(\"Thank you! You entered a positive number:\", number)\n",
        "        break\n",
        "    else:\n",
        "        print(\"That's not a positive number. Please try again.\")\n"
      ],
      "metadata": {
        "colab": {
          "base_uri": "https://localhost:8080/"
        },
        "id": "hH946nCkAjU4",
        "outputId": "510a33fc-3d34-4db8-c092-7e0c59ebe487"
      },
      "execution_count": null,
      "outputs": [
        {
          "output_type": "stream",
          "name": "stdout",
          "text": [
            "Enter a positive number: 67\n",
            "Thank you! You entered a positive number: 67\n"
          ]
        }
      ]
    },
    {
      "cell_type": "code",
      "source": [
        "#Write a Python program that prints the Fibonacci sequence up to n numbers using a while loop\n",
        "\n",
        "n = 10\n",
        "a, b, j = 0, 1, 0\n",
        "while j < n:\n",
        "    print(a)\n",
        "    a, b = b, a + b\n",
        "    j += 1\n",
        "print()\n",
        "\n"
      ],
      "metadata": {
        "colab": {
          "base_uri": "https://localhost:8080/"
        },
        "id": "q8BUXuZBEy4S",
        "outputId": "03b91a2d-2fa0-4d20-aa49-b4e668041f90"
      },
      "execution_count": null,
      "outputs": [
        {
          "output_type": "stream",
          "name": "stdout",
          "text": [
            "0\n",
            "1\n",
            "1\n",
            "2\n",
            "3\n",
            "5\n",
            "8\n",
            "13\n",
            "21\n",
            "34\n",
            "\n"
          ]
        }
      ]
    },
    {
      "cell_type": "code",
      "source": [
        "# Define the Car class\n",
        "class Car:\n",
        "    # Constructor method to initialize the Car object\n",
        "    def __init__(self, make, model, year):\n",
        "        self.make = make    # Attribute for the car make\n",
        "        self.model = model  # Attribute for the car model\n",
        "        self.year = year    # Attribute for the car year\n",
        "\n",
        "    # Method to display car details\n",
        "    def display_info(self):\n",
        "        print(f\"{self.year} {self.make} {self.model}\")\n",
        "\n",
        "# Create an object (instance) of the Car class\n",
        "my_car = Car(\"Toyota\", \"Camry\", 2021)\n",
        "\n",
        "# Call the display_info method on the object\n",
        "my_car.display_info()\n"
      ],
      "metadata": {
        "colab": {
          "base_uri": "https://localhost:8080/"
        },
        "id": "WEz9wglOFl5H",
        "outputId": "6911ae3e-7f15-4b39-ebe7-f9dbb7073cb0"
      },
      "execution_count": null,
      "outputs": [
        {
          "output_type": "stream",
          "name": "stdout",
          "text": [
            "2021 Toyota Camry\n"
          ]
        }
      ]
    },
    {
      "cell_type": "code",
      "source": [
        "a = int(input(\"Enter the first number: \"))\n",
        "b = int(input(\"Enter the second number: \"))\n",
        "\n",
        "lcm = max(a, b)\n",
        "\n",
        "while lcm % a != 0 or lcm % b != 0:\n",
        "    lcm += 1\n",
        "\n",
        "print(\"The LCM of\", a, \"and\", b, \"is:\", lcm)\n"
      ],
      "metadata": {
        "id": "PWZ2YlUBzLd_",
        "colab": {
          "base_uri": "https://localhost:8080/"
        },
        "outputId": "111ab9a9-ef0d-4e55-c586-adce2e84e99e"
      },
      "execution_count": null,
      "outputs": [
        {
          "output_type": "stream",
          "name": "stdout",
          "text": [
            "Enter the first number: 23\n",
            "Enter the second number: 34\n",
            "The LCM of 23 and 34 is: 782\n"
          ]
        }
      ]
    },
    {
      "cell_type": "code",
      "source": [
        "a=6\n",
        "b=4\n",
        "c=[]\n",
        "for i in range(2,min(a,b+1)):\n",
        "  if a%i==0 and b%i==0:\n",
        "    c.append\n",
        "    print(a,-1)\n"
      ],
      "metadata": {
        "colab": {
          "base_uri": "https://localhost:8080/"
        },
        "id": "ujNUaNeLtulj",
        "outputId": "78f9f2f5-35e1-422f-fe32-a914b1dbdbb8"
      },
      "execution_count": null,
      "outputs": [
        {
          "output_type": "stream",
          "name": "stdout",
          "text": [
            "6 -1\n"
          ]
        }
      ]
    }
  ],
  "metadata": {
    "colab": {
      "provenance": []
    },
    "kernelspec": {
      "display_name": "Python 3",
      "name": "python3"
    },
    "language_info": {
      "name": "python"
    }
  },
  "nbformat": 4,
  "nbformat_minor": 0
}